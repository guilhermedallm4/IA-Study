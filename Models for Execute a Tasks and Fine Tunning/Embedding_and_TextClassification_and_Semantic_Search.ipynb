{
  "nbformat": 4,
  "nbformat_minor": 0,
  "metadata": {
    "colab": {
      "provenance": []
    },
    "kernelspec": {
      "name": "python3",
      "display_name": "Python 3"
    },
    "language_info": {
      "name": "python"
    }
  },
  "cells": [
    {
      "cell_type": "markdown",
      "source": [
        "#Text Classification"
      ],
      "metadata": {
        "id": "4SfP7681-CZ9"
      }
    },
    {
      "cell_type": "code",
      "source": [
        "import pandas as pd\n",
        "import numpy as np\n",
        "import matplotlib.pyplot as plt\n",
        "\n",
        "from sentence_transformers import SentenceTransformer\n",
        "\n",
        "from sklearn.ensemble import RandomForestClassifier\n",
        "from sklearn.metrics import roc_auc_score"
      ],
      "metadata": {
        "id": "Kd5Pgi8Y2iK0"
      },
      "execution_count": 21,
      "outputs": []
    },
    {
      "cell_type": "code",
      "source": [
        "df_resume = pd.read_csv('resumes_train.csv')\n",
        "df_resume.head()"
      ],
      "metadata": {
        "colab": {
          "base_uri": "https://localhost:8080/",
          "height": 206
        },
        "id": "GiXFvFstAoRz",
        "outputId": "0380521e-8182-451d-94e3-889c08988d48"
      },
      "execution_count": 35,
      "outputs": [
        {
          "output_type": "execute_result",
          "data": {
            "text/plain": [
              "                                              resume            role\n",
              "0  ### John Doe\\n\\n---\\n\\n#### Summary\\nDetail-or...  Data Scientist\n",
              "1  Creating a resume for a Data Scientist based o...  Data Scientist\n",
              "2  Creating a resume for a Data Scientist...\\n\\n-...  Data Scientist\n",
              "3  Creating a resume for a Data Scientist based o...  Data Scientist\n",
              "4  ## John Doe\\n\\n---\\n\\n### Summary:\\nData Scien...  Data Scientist"
            ],
            "text/html": [
              "\n",
              "  <div id=\"df-8da952e8-4ca0-44b6-8a8d-3be037dbeac9\" class=\"colab-df-container\">\n",
              "    <div>\n",
              "<style scoped>\n",
              "    .dataframe tbody tr th:only-of-type {\n",
              "        vertical-align: middle;\n",
              "    }\n",
              "\n",
              "    .dataframe tbody tr th {\n",
              "        vertical-align: top;\n",
              "    }\n",
              "\n",
              "    .dataframe thead th {\n",
              "        text-align: right;\n",
              "    }\n",
              "</style>\n",
              "<table border=\"1\" class=\"dataframe\">\n",
              "  <thead>\n",
              "    <tr style=\"text-align: right;\">\n",
              "      <th></th>\n",
              "      <th>resume</th>\n",
              "      <th>role</th>\n",
              "    </tr>\n",
              "  </thead>\n",
              "  <tbody>\n",
              "    <tr>\n",
              "      <th>0</th>\n",
              "      <td>### John Doe\\n\\n---\\n\\n#### Summary\\nDetail-or...</td>\n",
              "      <td>Data Scientist</td>\n",
              "    </tr>\n",
              "    <tr>\n",
              "      <th>1</th>\n",
              "      <td>Creating a resume for a Data Scientist based o...</td>\n",
              "      <td>Data Scientist</td>\n",
              "    </tr>\n",
              "    <tr>\n",
              "      <th>2</th>\n",
              "      <td>Creating a resume for a Data Scientist...\\n\\n-...</td>\n",
              "      <td>Data Scientist</td>\n",
              "    </tr>\n",
              "    <tr>\n",
              "      <th>3</th>\n",
              "      <td>Creating a resume for a Data Scientist based o...</td>\n",
              "      <td>Data Scientist</td>\n",
              "    </tr>\n",
              "    <tr>\n",
              "      <th>4</th>\n",
              "      <td>## John Doe\\n\\n---\\n\\n### Summary:\\nData Scien...</td>\n",
              "      <td>Data Scientist</td>\n",
              "    </tr>\n",
              "  </tbody>\n",
              "</table>\n",
              "</div>\n",
              "    <div class=\"colab-df-buttons\">\n",
              "\n",
              "  <div class=\"colab-df-container\">\n",
              "    <button class=\"colab-df-convert\" onclick=\"convertToInteractive('df-8da952e8-4ca0-44b6-8a8d-3be037dbeac9')\"\n",
              "            title=\"Convert this dataframe to an interactive table.\"\n",
              "            style=\"display:none;\">\n",
              "\n",
              "  <svg xmlns=\"http://www.w3.org/2000/svg\" height=\"24px\" viewBox=\"0 -960 960 960\">\n",
              "    <path d=\"M120-120v-720h720v720H120Zm60-500h600v-160H180v160Zm220 220h160v-160H400v160Zm0 220h160v-160H400v160ZM180-400h160v-160H180v160Zm440 0h160v-160H620v160ZM180-180h160v-160H180v160Zm440 0h160v-160H620v160Z\"/>\n",
              "  </svg>\n",
              "    </button>\n",
              "\n",
              "  <style>\n",
              "    .colab-df-container {\n",
              "      display:flex;\n",
              "      gap: 12px;\n",
              "    }\n",
              "\n",
              "    .colab-df-convert {\n",
              "      background-color: #E8F0FE;\n",
              "      border: none;\n",
              "      border-radius: 50%;\n",
              "      cursor: pointer;\n",
              "      display: none;\n",
              "      fill: #1967D2;\n",
              "      height: 32px;\n",
              "      padding: 0 0 0 0;\n",
              "      width: 32px;\n",
              "    }\n",
              "\n",
              "    .colab-df-convert:hover {\n",
              "      background-color: #E2EBFA;\n",
              "      box-shadow: 0px 1px 2px rgba(60, 64, 67, 0.3), 0px 1px 3px 1px rgba(60, 64, 67, 0.15);\n",
              "      fill: #174EA6;\n",
              "    }\n",
              "\n",
              "    .colab-df-buttons div {\n",
              "      margin-bottom: 4px;\n",
              "    }\n",
              "\n",
              "    [theme=dark] .colab-df-convert {\n",
              "      background-color: #3B4455;\n",
              "      fill: #D2E3FC;\n",
              "    }\n",
              "\n",
              "    [theme=dark] .colab-df-convert:hover {\n",
              "      background-color: #434B5C;\n",
              "      box-shadow: 0px 1px 3px 1px rgba(0, 0, 0, 0.15);\n",
              "      filter: drop-shadow(0px 1px 2px rgba(0, 0, 0, 0.3));\n",
              "      fill: #FFFFFF;\n",
              "    }\n",
              "  </style>\n",
              "\n",
              "    <script>\n",
              "      const buttonEl =\n",
              "        document.querySelector('#df-8da952e8-4ca0-44b6-8a8d-3be037dbeac9 button.colab-df-convert');\n",
              "      buttonEl.style.display =\n",
              "        google.colab.kernel.accessAllowed ? 'block' : 'none';\n",
              "\n",
              "      async function convertToInteractive(key) {\n",
              "        const element = document.querySelector('#df-8da952e8-4ca0-44b6-8a8d-3be037dbeac9');\n",
              "        const dataTable =\n",
              "          await google.colab.kernel.invokeFunction('convertToInteractive',\n",
              "                                                    [key], {});\n",
              "        if (!dataTable) return;\n",
              "\n",
              "        const docLinkHtml = 'Like what you see? Visit the ' +\n",
              "          '<a target=\"_blank\" href=https://colab.research.google.com/notebooks/data_table.ipynb>data table notebook</a>'\n",
              "          + ' to learn more about interactive tables.';\n",
              "        element.innerHTML = '';\n",
              "        dataTable['output_type'] = 'display_data';\n",
              "        await google.colab.output.renderOutput(dataTable, element);\n",
              "        const docLink = document.createElement('div');\n",
              "        docLink.innerHTML = docLinkHtml;\n",
              "        element.appendChild(docLink);\n",
              "      }\n",
              "    </script>\n",
              "  </div>\n",
              "\n",
              "\n",
              "<div id=\"df-61aad6a2-6d61-4a73-8254-ec6b8b922fd4\">\n",
              "  <button class=\"colab-df-quickchart\" onclick=\"quickchart('df-61aad6a2-6d61-4a73-8254-ec6b8b922fd4')\"\n",
              "            title=\"Suggest charts\"\n",
              "            style=\"display:none;\">\n",
              "\n",
              "<svg xmlns=\"http://www.w3.org/2000/svg\" height=\"24px\"viewBox=\"0 0 24 24\"\n",
              "     width=\"24px\">\n",
              "    <g>\n",
              "        <path d=\"M19 3H5c-1.1 0-2 .9-2 2v14c0 1.1.9 2 2 2h14c1.1 0 2-.9 2-2V5c0-1.1-.9-2-2-2zM9 17H7v-7h2v7zm4 0h-2V7h2v10zm4 0h-2v-4h2v4z\"/>\n",
              "    </g>\n",
              "</svg>\n",
              "  </button>\n",
              "\n",
              "<style>\n",
              "  .colab-df-quickchart {\n",
              "      --bg-color: #E8F0FE;\n",
              "      --fill-color: #1967D2;\n",
              "      --hover-bg-color: #E2EBFA;\n",
              "      --hover-fill-color: #174EA6;\n",
              "      --disabled-fill-color: #AAA;\n",
              "      --disabled-bg-color: #DDD;\n",
              "  }\n",
              "\n",
              "  [theme=dark] .colab-df-quickchart {\n",
              "      --bg-color: #3B4455;\n",
              "      --fill-color: #D2E3FC;\n",
              "      --hover-bg-color: #434B5C;\n",
              "      --hover-fill-color: #FFFFFF;\n",
              "      --disabled-bg-color: #3B4455;\n",
              "      --disabled-fill-color: #666;\n",
              "  }\n",
              "\n",
              "  .colab-df-quickchart {\n",
              "    background-color: var(--bg-color);\n",
              "    border: none;\n",
              "    border-radius: 50%;\n",
              "    cursor: pointer;\n",
              "    display: none;\n",
              "    fill: var(--fill-color);\n",
              "    height: 32px;\n",
              "    padding: 0;\n",
              "    width: 32px;\n",
              "  }\n",
              "\n",
              "  .colab-df-quickchart:hover {\n",
              "    background-color: var(--hover-bg-color);\n",
              "    box-shadow: 0 1px 2px rgba(60, 64, 67, 0.3), 0 1px 3px 1px rgba(60, 64, 67, 0.15);\n",
              "    fill: var(--button-hover-fill-color);\n",
              "  }\n",
              "\n",
              "  .colab-df-quickchart-complete:disabled,\n",
              "  .colab-df-quickchart-complete:disabled:hover {\n",
              "    background-color: var(--disabled-bg-color);\n",
              "    fill: var(--disabled-fill-color);\n",
              "    box-shadow: none;\n",
              "  }\n",
              "\n",
              "  .colab-df-spinner {\n",
              "    border: 2px solid var(--fill-color);\n",
              "    border-color: transparent;\n",
              "    border-bottom-color: var(--fill-color);\n",
              "    animation:\n",
              "      spin 1s steps(1) infinite;\n",
              "  }\n",
              "\n",
              "  @keyframes spin {\n",
              "    0% {\n",
              "      border-color: transparent;\n",
              "      border-bottom-color: var(--fill-color);\n",
              "      border-left-color: var(--fill-color);\n",
              "    }\n",
              "    20% {\n",
              "      border-color: transparent;\n",
              "      border-left-color: var(--fill-color);\n",
              "      border-top-color: var(--fill-color);\n",
              "    }\n",
              "    30% {\n",
              "      border-color: transparent;\n",
              "      border-left-color: var(--fill-color);\n",
              "      border-top-color: var(--fill-color);\n",
              "      border-right-color: var(--fill-color);\n",
              "    }\n",
              "    40% {\n",
              "      border-color: transparent;\n",
              "      border-right-color: var(--fill-color);\n",
              "      border-top-color: var(--fill-color);\n",
              "    }\n",
              "    60% {\n",
              "      border-color: transparent;\n",
              "      border-right-color: var(--fill-color);\n",
              "    }\n",
              "    80% {\n",
              "      border-color: transparent;\n",
              "      border-right-color: var(--fill-color);\n",
              "      border-bottom-color: var(--fill-color);\n",
              "    }\n",
              "    90% {\n",
              "      border-color: transparent;\n",
              "      border-bottom-color: var(--fill-color);\n",
              "    }\n",
              "  }\n",
              "</style>\n",
              "\n",
              "  <script>\n",
              "    async function quickchart(key) {\n",
              "      const quickchartButtonEl =\n",
              "        document.querySelector('#' + key + ' button');\n",
              "      quickchartButtonEl.disabled = true;  // To prevent multiple clicks.\n",
              "      quickchartButtonEl.classList.add('colab-df-spinner');\n",
              "      try {\n",
              "        const charts = await google.colab.kernel.invokeFunction(\n",
              "            'suggestCharts', [key], {});\n",
              "      } catch (error) {\n",
              "        console.error('Error during call to suggestCharts:', error);\n",
              "      }\n",
              "      quickchartButtonEl.classList.remove('colab-df-spinner');\n",
              "      quickchartButtonEl.classList.add('colab-df-quickchart-complete');\n",
              "    }\n",
              "    (() => {\n",
              "      let quickchartButtonEl =\n",
              "        document.querySelector('#df-61aad6a2-6d61-4a73-8254-ec6b8b922fd4 button');\n",
              "      quickchartButtonEl.style.display =\n",
              "        google.colab.kernel.accessAllowed ? 'block' : 'none';\n",
              "    })();\n",
              "  </script>\n",
              "</div>\n",
              "\n",
              "    </div>\n",
              "  </div>\n"
            ],
            "application/vnd.google.colaboratory.intrinsic+json": {
              "type": "dataframe",
              "variable_name": "df_resume",
              "summary": "{\n  \"name\": \"df_resume\",\n  \"rows\": 100,\n  \"fields\": [\n    {\n      \"column\": \"resume\",\n      \"properties\": {\n        \"dtype\": \"string\",\n        \"num_unique_values\": 100,\n        \"samples\": [\n          \"**John Doe**\\n\\n---\\n\\n**Summary:**\\nDynamic and results-driven AI Consultant with a proven track record in leveraging artificial intelligence technologies to drive business growth. Skilled in developing innovative solutions, optimizing algorithms, and providing expert consultancy to clients. Strong knowledge of machine learning, deep learning, and natural language processing.\\n\\n---\\n\\n**Professional Experience:**\\n**AI Consultant**\\nXYZ Tech Solutions, Anytown\\n2018-present\\n- Led multiple AI projects from conception to delivery, resulting in a 20% increase in operational efficiency for clients.\\n- Implemented machine learning algorithms to automate data analysis processes, reducing manual efforts by 30%.\\n- Collaborated with cross-functional teams to identify business requirements and deliver custom AI solutions.\\n\\n**AI Specialist**\\nABC Consulting, Cityville\\n2015-2018\\n- Designed and implemented AI models for predictive analytics, leading to a 25% improvement in customer retention rates.\\n- Conducted AI workshops and training sessions for internal teams to enhance their understanding of AI technologies.\\n- Worked closely with clients to understand their AI needs and provide tailored solutions to meet their business objectives.\\n\\n---\\n\\n**Education:**\\nMaster of Science in Artificial Intelligence\\nUniversity of Technology, Cityville\\nGraduated: 2015\\n\\nBachelor of Engineering in Computer Science\\nUniversity of Technology, Cityville\\nGraduated: 2013\\n\\n---\\n\\n**Technical Skills:**\\n- Programming Languages: Python, Java, R\\n- Machine Learning: TensorFlow, Scikit-learn, Keras\\n- Natural Language Processing: NLTK, SpaCy\\n- Data Visualization: Tableau, matplotlib, seaborn\\n\\n---\\n\\n**Certifications:**\\n- Certified Artificial Intelligence Professional (CAIP)\\n- Machine Learning Certification from Coursera\\n\\n---\\n\\n**Awards and Honors:**\\n- Winner of the AI Innovation Award at the National Tech Conference (2019)\\n- Dean's List for Academic Excellence during Master's program\\n\\n---\\nThis is a mock resume generated for an AI Consultant.\",\n          \"### Resume\\n\\n---\\n\\n**Name:** [Your Name]\\n\\n**Summary:** \\nExperienced and detail-oriented Data Engineer with a strong background in data analytics, database management, and ETL processes. Skilled in designing and developing complex data pipelines to ensure the efficient flow of data and optimize data processes. Proficient in various programming languages and tools for data manipulation and analysis.\\n\\n**Professional Experience:**\\n- **Data Engineer** at XYZ Company\\n  - Developed scalable data pipelines for processing and analyzing large volumes of data.\\n  - Designed and implemented data models to support business intelligence and reporting requirements.\\n  - Collaborated with cross-functional teams to troubleshoot data-related issues and optimize data quality.\\n  \\n- **Junior Data Engineer** at ABC Corporation\\n  - Assisted in building and maintaining data pipelines to extract, transform, and load data into data warehouse.\\n  - Conducted data cleaning and transformation processes to ensure data accuracy and consistency.\\n  - Supported data analysts in creating reports and dashboards for business insights.\\n\\n**Education:**\\n- Bachelor's Degree in Computer Science, University of [Your University]\\n- Coursework in Data Management, Database Systems, and Data Analytics\\n\\n**Technical Skills:**\\n- Languages: SQL, Python, Java\\n- Databases: MySQL, PostgreSQL, MongoDB\\n- Big Data Technologies: Hadoop, Spark\\n- Tools: Apache Airflow, Tableau, Git\\n\\n**Certifications:**\\n- Certified Data Management Professional (CDMP)\\n- AWS Certified Big Data - Specialty\\n\\n**Awards and Honors:**\\n- Dean's List for Academic Excellence\\n\\n--- \\n\\nThis resume is a sample representation based on the input provided. Feel free to customize and adjust the content as needed.\",\n          \"Name: [Your Preferred Name]\\n\\nSummary: \\nDedicated and detail-oriented Machine Learning Engineer with a strong background in developing and implementing machine learning algorithms. Experienced in Python, TensorFlow, and scikit-learn. Adept at analyzing data, conducting research, and optimizing machine learning models for improved performance. Proven track record of delivering innovative solutions to complex problems.\\n\\nProfessional Experience:\\nMachine Learning Engineer\\nXYZ Tech Solutions, Anytown, USA\\n- Developed and implemented machine learning algorithms to analyze large datasets\\n- Conducted research to improve model accuracy and performance\\n- Collaborated with cross-functional teams to integrate machine learning models into production systems\\n- Optimized algorithms for scalability and efficiency\\n\\nData Scientist Intern\\nABC Data Analytics, Somewhere City, USA\\n- Assisted in analyzing and interpreting data to extract valuable insights\\n- Worked on data cleaning, preprocessing, and feature engineering tasks\\n- Developed data visualization tools to communicate findings effectively\\n- Participated in team meetings and contributed ideas for project improvement\\n\\nEducation:\\nMaster of Science in Computer Science\\nUniversity of Technology, Anytown, USA\\n- Specialization in Machine Learning and Artificial Intelligence\\n\\nBachelor of Science in Computer Science\\nCollege of Engineering, Somewhere City, USA\\n- Minor in Mathematics\\n\\nTechnical Skills:\\n- Programming Languages: Python, Java, R\\n- Machine Learning Frameworks: TensorFlow, scikit-learn, Keras\\n- Data Analysis Tools: Pandas, NumPy, Matplotlib\\n- Database Management: SQL, MongoDB\\n- Version Control: Git, GitHub\\n\\nCertifications:\\n- Certified Machine Learning Engineer (CMLE)\\n- TensorFlow Developer Certificate\\n\\nAwards and Honors:\\n- Dean's List for academic excellence\\n- Best Project Award for a machine learning project at University Tech Fair\\n- Recognition for outstanding contribution to a team project at XYZ Tech Solutions\"\n        ],\n        \"semantic_type\": \"\",\n        \"description\": \"\"\n      }\n    },\n    {\n      \"column\": \"role\",\n      \"properties\": {\n        \"dtype\": \"category\",\n        \"num_unique_values\": 6,\n        \"samples\": [\n          \"Data Scientist\",\n          \"Data Engineer\",\n          \"Generate a random resume, you decide the roles and industry.\"\n        ],\n        \"semantic_type\": \"\",\n        \"description\": \"\"\n      }\n    }\n  ]\n}"
            }
          },
          "metadata": {},
          "execution_count": 35
        }
      ]
    },
    {
      "cell_type": "code",
      "source": [
        "from sentence_transformers import SentenceTransformer\n",
        "\n",
        "def generate_embeddings(text, model_name=\"all-MiniLM-L6-v2\"):\n",
        "    # Load the pre-trained model\n",
        "    model = SentenceTransformer(model_name)\n",
        "\n",
        "    # Generate embeddings\n",
        "    embeddings = model.encode(text)\n",
        "\n",
        "    return embeddings"
      ],
      "metadata": {
        "id": "wbS4bapAAc5u"
      },
      "execution_count": 36,
      "outputs": []
    },
    {
      "cell_type": "code",
      "source": [
        "text_embeddings = generate_embeddings(df_resume['resume'])\n",
        "\n",
        "text_embeddings_list = text_embeddings.tolist()"
      ],
      "metadata": {
        "id": "EYkH2nZ3D9wN"
      },
      "execution_count": 37,
      "outputs": []
    },
    {
      "cell_type": "code",
      "source": [
        "column_names = [\"embedding_\" + str(i) for i in range(len(text_embeddings_list[0]))]\n",
        "\n",
        "df_train = pd.DataFrame(text_embeddings_list, columns=column_names)\n",
        "\n",
        "df_train['is_data_scientist'] = df_resume['role']==\"Data Scientist\""
      ],
      "metadata": {
        "id": "r-w2nVrlFM_8"
      },
      "execution_count": 38,
      "outputs": []
    },
    {
      "cell_type": "code",
      "source": [
        "X = df_train.iloc[:,:-1]\n",
        "y = df_train.iloc[:,-1]\n",
        "\n",
        "clf = RandomForestClassifier(max_depth=2, random_state=0).fit(X,y)"
      ],
      "metadata": {
        "id": "CcJdjsWoG5l0"
      },
      "execution_count": 47,
      "outputs": []
    },
    {
      "cell_type": "code",
      "source": [
        "print(clf.score(X,y))\n",
        "\n",
        "print(roc_auc_score(y, clf.predict_proba(X)[:,1]))"
      ],
      "metadata": {
        "colab": {
          "base_uri": "https://localhost:8080/"
        },
        "id": "2WSfY-IWG6cy",
        "outputId": "316242e2-c65c-44ac-b32a-38aa748214a5"
      },
      "execution_count": 48,
      "outputs": [
        {
          "output_type": "stream",
          "name": "stdout",
          "text": [
            "1.0\n",
            "1.0\n"
          ]
        }
      ]
    },
    {
      "cell_type": "markdown",
      "source": [
        "###Test"
      ],
      "metadata": {
        "id": "9Darf8VuHCmG"
      }
    },
    {
      "cell_type": "code",
      "source": [
        "df_resume_test = pd.read_csv('resumes_test.csv')\n",
        "\n",
        "text_embeddings_test = generate_embeddings(df_resume_test['resume'])\n",
        "\n",
        "text_embeddings_test_list = text_embeddings_test.tolist()"
      ],
      "metadata": {
        "id": "e6J_G9z3HDO6"
      },
      "execution_count": 49,
      "outputs": []
    },
    {
      "cell_type": "code",
      "source": [
        "df_test = pd.DataFrame(text_embeddings_test_list, columns=column_names)\n",
        "df_test['is_data_scientist'] = df_resume['role']==\"Data Scientist\""
      ],
      "metadata": {
        "id": "nkBnw-V5HUp8"
      },
      "execution_count": 50,
      "outputs": []
    },
    {
      "cell_type": "code",
      "source": [
        "X_test = df_test.iloc[:,:-1]\n",
        "y_test = df_test.iloc[:,-1]"
      ],
      "metadata": {
        "id": "egXwgLi9HWJR"
      },
      "execution_count": 51,
      "outputs": []
    },
    {
      "cell_type": "code",
      "source": [
        "print(clf.score(X_test, y_test))\n",
        "\n",
        "print(roc_auc_score(y_test, clf.predict_proba(X_test)[:,1]))"
      ],
      "metadata": {
        "colab": {
          "base_uri": "https://localhost:8080/"
        },
        "id": "-nd6tVAVIWJ2",
        "outputId": "b91ba02d-4e97-4600-c14e-5a42798898fd"
      },
      "execution_count": 52,
      "outputs": [
        {
          "output_type": "stream",
          "name": "stdout",
          "text": [
            "0.54\n",
            "0.585\n"
          ]
        }
      ]
    },
    {
      "cell_type": "markdown",
      "source": [
        "#Semantic Search"
      ],
      "metadata": {
        "id": "ESGjwmGh-FTq"
      }
    },
    {
      "cell_type": "code",
      "source": [
        "import pandas as pd\n",
        "import numpy as np\n",
        "\n",
        "from sentence_transformers import SentenceTransformer\n",
        "\n",
        "from sklearn.decomposition import PCA\n",
        "from sklearn.metrics import DistanceMetric\n",
        "\n",
        "import matplotlib.pyplot as plt\n",
        "import matplotlib as mpl"
      ],
      "metadata": {
        "id": "3ZSlwMHQ-Gw5"
      },
      "execution_count": 53,
      "outputs": []
    },
    {
      "cell_type": "code",
      "source": [
        "df_resume = pd.read_csv('resumes_train.csv')\n",
        "\n",
        "df_resume['role'][df_resume['role'].iloc[-1] == df_resume['role']] = \"Other\""
      ],
      "metadata": {
        "colab": {
          "base_uri": "https://localhost:8080/"
        },
        "id": "oKiTaW6AKQ29",
        "outputId": "9e973016-1ef5-4c81-f468-9ef4c41c4f98"
      },
      "execution_count": 54,
      "outputs": [
        {
          "output_type": "stream",
          "name": "stderr",
          "text": [
            "<ipython-input-54-e9ada6dfdbeb>:3: FutureWarning: ChainedAssignmentError: behaviour will change in pandas 3.0!\n",
            "You are setting values through chained assignment. Currently this works in certain cases, but when using Copy-on-Write (which will become the default behaviour in pandas 3.0) this will never work to update the original DataFrame or Series, because the intermediate object on which we are setting values will behave as a copy.\n",
            "A typical example is when you are setting values in a column of a DataFrame, like:\n",
            "\n",
            "df[\"col\"][row_indexer] = value\n",
            "\n",
            "Use `df.loc[row_indexer, \"col\"] = values` instead, to perform the assignment in a single step and ensure this keeps updating the original `df`.\n",
            "\n",
            "See the caveats in the documentation: https://pandas.pydata.org/pandas-docs/stable/user_guide/indexing.html#returning-a-view-versus-a-copy\n",
            "\n",
            "  df_resume['role'][df_resume['role'].iloc[-1] == df_resume['role']] = \"Other\"\n"
          ]
        }
      ]
    },
    {
      "cell_type": "code",
      "source": [
        "model = SentenceTransformer(\"all-MiniLM-L6-v2\")\n",
        "\n",
        "embedding_arr = model.encode(df_resume['resume'])"
      ],
      "metadata": {
        "id": "FV7v1d3tKrmB"
      },
      "execution_count": 56,
      "outputs": []
    },
    {
      "cell_type": "code",
      "source": [
        "query = \"I need someone to build out my data infrastructure\"\n",
        "\n",
        "query_embedding = model.encode(query)"
      ],
      "metadata": {
        "id": "Ln5_CYFPK8av"
      },
      "execution_count": 58,
      "outputs": []
    },
    {
      "cell_type": "code",
      "source": [
        "dist = DistanceMetric.get_metric('euclidean')\n",
        "\n",
        "dist_arr = dist.pairwise(embedding_arr, query_embedding.reshape(1, -1)).flatten()\n",
        "\n",
        "idist_arr_sorted = np.argsort(dist_arr)"
      ],
      "metadata": {
        "id": "5St9sgaILlXM"
      },
      "execution_count": 61,
      "outputs": []
    },
    {
      "cell_type": "code",
      "source": [
        "print(df_resume['role'].iloc[idist_arr_sorted[:10]])"
      ],
      "metadata": {
        "colab": {
          "base_uri": "https://localhost:8080/"
        },
        "id": "2HIQtgXOL0jk",
        "outputId": "79600a39-c3c1-410f-ae0c-d856e677b2dc"
      },
      "execution_count": 63,
      "outputs": [
        {
          "output_type": "stream",
          "name": "stdout",
          "text": [
            "48        Data Engineer\n",
            "58        Data Engineer\n",
            "43        Data Engineer\n",
            "93    Data Entrepreneur\n",
            "41        Data Engineer\n",
            "55        Data Engineer\n",
            "40        Data Engineer\n",
            "56        Data Engineer\n",
            "46        Data Engineer\n",
            "47        Data Engineer\n",
            "Name: role, dtype: object\n"
          ]
        }
      ]
    },
    {
      "cell_type": "code",
      "source": [
        "print(df_resume['resume'].iloc[idist_arr_sorted[0]])"
      ],
      "metadata": {
        "colab": {
          "base_uri": "https://localhost:8080/"
        },
        "id": "jL9LPypjMVNx",
        "outputId": "17f505b0-e068-4354-8d04-d5fbcf00a69f"
      },
      "execution_count": 64,
      "outputs": [
        {
          "output_type": "stream",
          "name": "stdout",
          "text": [
            "**John Doe**\n",
            "\n",
            "---\n",
            "\n",
            "**Summary:**\n",
            "Highly skilled and experienced Data Engineer with a strong background in designing, implementing, and maintaining data pipelines. Proficient in data modeling, ETL processes, and data warehousing. Adept at working with large datasets and optimizing data workflows to improve efficiency.\n",
            "\n",
            "---\n",
            "\n",
            "**Professional Experience:**\n",
            "- **Senior Data Engineer**  \n",
            "  XYZ Tech, Anytown, USA  \n",
            "  June 2018 - Present  \n",
            "  - Designed and developed scalable data pipelines to handle terabytes of data daily.\n",
            "  - Optimized ETL processes to improve data quality and processing time by 30%.\n",
            "  - Collaborated with cross-functional teams to implement data architecture best practices.\n",
            "\n",
            "- **Data Engineer**  \n",
            "  ABC Solutions, Sometown, USA  \n",
            "  January 2015 - May 2018  \n",
            "  - Built and maintained data pipelines for real-time data processing.\n",
            "  - Developed data models and implemented data governance policies.\n",
            "  - Worked on data integration projects to streamline data access for business users.\n",
            "\n",
            "---\n",
            "\n",
            "**Education:**\n",
            "- **Master of Science in Computer Science**  \n",
            "  University of Technology, Cityville, USA  \n",
            "  Graduated: 2014\n",
            "\n",
            "- **Bachelor of Science in Computer Engineering**  \n",
            "  State College, Hometown, USA  \n",
            "  Graduated: 2012\n",
            "\n",
            "---\n",
            "\n",
            "**Technical Skills:**\n",
            "- Programming: Python, SQL, Java\n",
            "- Big Data Technologies: Hadoop, Spark, Kafka\n",
            "- Databases: MySQL, PostgreSQL, MongoDB\n",
            "- Data Warehousing: Amazon Redshift, Snowflake\n",
            "- ETL Tools: Apache NiFi, Talend\n",
            "- Data Visualization: Tableau, Power BI\n",
            "\n",
            "---\n",
            "\n",
            "**Certifications:**\n",
            "- Certified Data Management Professional (CDMP)\n",
            "- AWS Certified Big Data - Specialty\n",
            "\n",
            "---\n",
            "\n",
            "**Awards and Honors:**\n",
            "- Employee of the Month - XYZ Tech (July 2020)\n",
            "- Outstanding Achievement in Data Engineering - ABC Solutions (2017)\n",
            "\n",
            "--- \n",
            "\n",
            "This resume is a sample representation for a Data Engineer position and does not pertain to any real individual.\n"
          ]
        }
      ]
    },
    {
      "cell_type": "code",
      "source": [
        "query = \"Data Engineer with Apache Ariflow experience\"\n",
        "\n",
        "query_embedding = model.encode(query)\n",
        "\n",
        "dist = DistanceMetric.get_metric('euclidean')\n",
        "\n",
        "dist_arr = dist.pairwise(embedding_arr, query_embedding.reshape(1, -1)).flatten()\n",
        "\n",
        "idist_arr_sorted = np.argsort(dist_arr)"
      ],
      "metadata": {
        "id": "9MeeIf05Mh44"
      },
      "execution_count": 65,
      "outputs": []
    },
    {
      "cell_type": "code",
      "source": [
        "print(df_resume['role'].iloc[idist_arr_sorted[:10]])"
      ],
      "metadata": {
        "colab": {
          "base_uri": "https://localhost:8080/"
        },
        "id": "QhnwL0QfMnfZ",
        "outputId": "477c86f7-c2cc-4286-c986-ce925bafb605"
      },
      "execution_count": 66,
      "outputs": [
        {
          "output_type": "stream",
          "name": "stdout",
          "text": [
            "48    Data Engineer\n",
            "51    Data Engineer\n",
            "47    Data Engineer\n",
            "46    Data Engineer\n",
            "55    Data Engineer\n",
            "43    Data Engineer\n",
            "57    Data Engineer\n",
            "53    Data Engineer\n",
            "41    Data Engineer\n",
            "59    Data Engineer\n",
            "Name: role, dtype: object\n"
          ]
        }
      ]
    },
    {
      "cell_type": "code",
      "source": [
        "print(df_resume['resume'].iloc[idist_arr_sorted[0]])"
      ],
      "metadata": {
        "colab": {
          "base_uri": "https://localhost:8080/"
        },
        "id": "GfJdW2vpMrzL",
        "outputId": "1bb4a1c1-2537-49c0-9fed-6180dd6f19d5"
      },
      "execution_count": 67,
      "outputs": [
        {
          "output_type": "stream",
          "name": "stdout",
          "text": [
            "**John Doe**\n",
            "\n",
            "---\n",
            "\n",
            "**Summary:**\n",
            "Highly skilled and experienced Data Engineer with a strong background in designing, implementing, and maintaining data pipelines. Proficient in data modeling, ETL processes, and data warehousing. Adept at working with large datasets and optimizing data workflows to improve efficiency.\n",
            "\n",
            "---\n",
            "\n",
            "**Professional Experience:**\n",
            "- **Senior Data Engineer**  \n",
            "  XYZ Tech, Anytown, USA  \n",
            "  June 2018 - Present  \n",
            "  - Designed and developed scalable data pipelines to handle terabytes of data daily.\n",
            "  - Optimized ETL processes to improve data quality and processing time by 30%.\n",
            "  - Collaborated with cross-functional teams to implement data architecture best practices.\n",
            "\n",
            "- **Data Engineer**  \n",
            "  ABC Solutions, Sometown, USA  \n",
            "  January 2015 - May 2018  \n",
            "  - Built and maintained data pipelines for real-time data processing.\n",
            "  - Developed data models and implemented data governance policies.\n",
            "  - Worked on data integration projects to streamline data access for business users.\n",
            "\n",
            "---\n",
            "\n",
            "**Education:**\n",
            "- **Master of Science in Computer Science**  \n",
            "  University of Technology, Cityville, USA  \n",
            "  Graduated: 2014\n",
            "\n",
            "- **Bachelor of Science in Computer Engineering**  \n",
            "  State College, Hometown, USA  \n",
            "  Graduated: 2012\n",
            "\n",
            "---\n",
            "\n",
            "**Technical Skills:**\n",
            "- Programming: Python, SQL, Java\n",
            "- Big Data Technologies: Hadoop, Spark, Kafka\n",
            "- Databases: MySQL, PostgreSQL, MongoDB\n",
            "- Data Warehousing: Amazon Redshift, Snowflake\n",
            "- ETL Tools: Apache NiFi, Talend\n",
            "- Data Visualization: Tableau, Power BI\n",
            "\n",
            "---\n",
            "\n",
            "**Certifications:**\n",
            "- Certified Data Management Professional (CDMP)\n",
            "- AWS Certified Big Data - Specialty\n",
            "\n",
            "---\n",
            "\n",
            "**Awards and Honors:**\n",
            "- Employee of the Month - XYZ Tech (July 2020)\n",
            "- Outstanding Achievement in Data Engineering - ABC Solutions (2017)\n",
            "\n",
            "--- \n",
            "\n",
            "This resume is a sample representation for a Data Engineer position and does not pertain to any real individual.\n"
          ]
        }
      ]
    }
  ]
}
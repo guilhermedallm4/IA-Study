{
  "nbformat": 4,
  "nbformat_minor": 0,
  "metadata": {
    "colab": {
      "provenance": [],
      "collapsed_sections": [
        "XD8sME96uDPU",
        "wzlW3b8HyaCC"
      ]
    },
    "kernelspec": {
      "name": "python3",
      "display_name": "Python 3"
    },
    "language_info": {
      "name": "python"
    }
  },
  "cells": [
    {
      "cell_type": "markdown",
      "source": [
        "#(Depth-First Search - DFS)"
      ],
      "metadata": {
        "id": "XD8sME96uDPU"
      }
    },
    {
      "cell_type": "markdown",
      "source": [
        "A busca em profundidade (Depth-First Search - DFS) é um algoritmo de busca usado em grafos e estruturas de dados em árvore. Ela começa na raiz (ou em um nó inicial arbitrário) e explora tão profundamente quanto possível ao longo de cada ramificação antes de fazer o backtracking (retornar) para explorar outras ramificações"
      ],
      "metadata": {
        "id": "rwbcdcz1yn2z"
      }
    },
    {
      "cell_type": "code",
      "execution_count": null,
      "metadata": {
        "id": "JHSI4pvet7Zb"
      },
      "outputs": [],
      "source": [
        "vectorAdjacentes = []\n",
        "\n",
        "def dfs(grafo, no_atual, visitados, condicaoDeParada):\n",
        "  if no_atual not in visitados:\n",
        "    visitados.append(no_atual)\n",
        "    for i in grafo[no_atual]:\n",
        "      if i == condicaoDeParada:\n",
        "        vectorAdjacentes.append(no_atual)\n",
        "      dfs(grafo, i, visitados, condicaoDeParada)\n",
        "\n",
        "\n",
        "  print(visitados)\n",
        "\n"
      ]
    },
    {
      "cell_type": "code",
      "source": [
        "grafo = [ [1],           # Vizinhos do vértice 0.\n",
        "          [2, 3],        # Vizinhos do vértice 1.\n",
        "          [1, 4],        # Vizinhos do vértice 2.\n",
        "          [0, 2],        # Vizinhos do vértice 3.\n",
        "          [1]            # Vizinhos do vértice 4.\n",
        "        ]\n",
        "visitados = []\n",
        "no_atual = 0\n",
        "dfs(grafo, no_atual, visitados, 2)\n",
        "print(vectorAdjacentes)"
      ],
      "metadata": {
        "colab": {
          "base_uri": "https://localhost:8080/"
        },
        "id": "yxGGD-lRuFhj",
        "outputId": "ceebb121-4099-4228-a921-1e9eb5026770"
      },
      "execution_count": null,
      "outputs": [
        {
          "output_type": "stream",
          "name": "stdout",
          "text": [
            "[0, 1, 2]\n",
            "[0, 1, 2, 4]\n",
            "[0, 1, 2, 4]\n",
            "[0, 1, 2, 4]\n",
            "[0, 1, 2, 4, 3]\n",
            "[0, 1, 2, 4, 3]\n",
            "[0, 1, 2, 4, 3]\n",
            "[0, 1, 2, 4, 3]\n",
            "[0, 1, 2, 4, 3]\n",
            "[1, 3]\n"
          ]
        }
      ]
    },
    {
      "cell_type": "markdown",
      "source": [
        "#(Breadth-First Search - BFS)"
      ],
      "metadata": {
        "id": "wzlW3b8HyaCC"
      }
    },
    {
      "cell_type": "markdown",
      "source": [
        "A busca em largura (Breadth-First Search - BFS) é um algoritmo de busca utilizado em estruturas de dados em grafo e árvore. Diferentemente da busca em profundidade (DFS), que explora o máximo possível em profundidade antes de retroceder, a busca em largura explora todos os nós vizinhos de um nó antes de avançar para os vizinhos dos vizinhos. Isso significa que a BFS é usada para explorar todos os nós de um nível antes de passar para o próximo nível, o que a torna útil para encontrar o caminho mais curto entre dois nós em um grafo não ponderado."
      ],
      "metadata": {
        "id": "KDn6oXknyp28"
      }
    },
    {
      "cell_type": "code",
      "source": [
        "def bfs(grafo, no_inicio):\n",
        "  visitado = []\n",
        "  fila = []\n",
        "  fila.append(no_inicio)\n",
        "  visitado.append(no_inicio)\n",
        "\n",
        "  while len(fila) != 0:\n",
        "    no_inicio = fila.pop(0)\n",
        "    for vizinho in grafo[no_inicio]:\n",
        "      if vizinho not in visitado:\n",
        "        visitado.append(vizinho)\n",
        "        fila.append(vizinho)\n",
        "  print(fila)\n",
        "  print(visitado)"
      ],
      "metadata": {
        "id": "6kd5oMZnybhS"
      },
      "execution_count": null,
      "outputs": []
    },
    {
      "cell_type": "code",
      "source": [
        "grafo = [ [1],           # Vizinhos do vértice 0.\n",
        "          [2, 3],        # Vizinhos do vértice 1.\n",
        "          [1, 4],        # Vizinhos do vértice 2.\n",
        "          [0, 2],        # Vizinhos do vértice 3.\n",
        "          [0]            # Vizinhos do vértice 4.\n",
        "        ]\n",
        "bfs(grafo, 4)"
      ],
      "metadata": {
        "colab": {
          "base_uri": "https://localhost:8080/"
        },
        "id": "L0NeV3CJzkAF",
        "outputId": "bdcf3537-b01f-42dd-bb5f-3294a489f0f9"
      },
      "execution_count": null,
      "outputs": [
        {
          "output_type": "stream",
          "name": "stdout",
          "text": [
            "[]\n",
            "[4, 0, 1, 2, 3]\n"
          ]
        }
      ]
    },
    {
      "cell_type": "markdown",
      "source": [
        "#(Uniform-Cost Search - UCS)"
      ],
      "metadata": {
        "id": "5qNLMuqm1-ky"
      }
    },
    {
      "cell_type": "markdown",
      "source": [
        "O algoritmo de busca de custo uniforme (Uniform-Cost Search ou UCS) é um algoritmo de busca não informada que é usado para encontrar o caminho mais curto entre dois pontos em um grafo ponderado. O UCS é uma variação da busca em largura (BFS) e é especialmente útil quando todos os custos das arestas no grafo não são negativos. Ele garante encontrar o caminho mais curto, mesmo em grafos com custos diferentes nas arestas."
      ],
      "metadata": {
        "id": "o60P3uXr2EGZ"
      }
    },
    {
      "cell_type": "code",
      "source": [
        "G = {}\n",
        "prioridade = []\n",
        "\n",
        "def inicializar_G(grafo, no_inicial):\n",
        "    for no in range(len(grafo)):\n",
        "        if no == no_inicial:\n",
        "            G[no] = 0  # O nó inicial tem G(n) igual a 0\n",
        "        else:\n",
        "            G[no] = float('inf')  # Inicializa todos os outros nós com infinito\n",
        "\n",
        "# Procedimento para atualizar G(n) de um nó vizinho\n",
        "def atualizar_G(no_atual, no_vizinho, custo_aresta):\n",
        "    if G[no_atual] + custo_aresta < G[no_vizinho]:\n",
        "        G[no_vizinho] = G[no_atual] + custo_aresta\n",
        "\n",
        "def retirar_menor_custo():\n",
        "    prioridade.sort(key=lambda x: x[1]) # Ordena a fila pelo valor G(n)\n",
        "    no_atual, menor_custo = prioridade.pop(0)  # Retira o nó com menor custo\n",
        "    return no_atual\n",
        "\n",
        "def adicionar_no_fila_prioridade(no):\n",
        "    prioridade.append((no, G[no]))\n",
        "\n",
        "def ucs(grafo, no_inicial, no_destino):\n",
        "    inicializar_G(grafo, no_inicial)\n",
        "    adicionar_no_fila_prioridade(no_inicial)\n",
        "\n",
        "    while len(prioridade) != 0:\n",
        "        no_atual = retirar_menor_custo()\n",
        "\n",
        "        if no_atual == no_destino:\n",
        "          new_G = {chave: valor for chave, valor in G.items() if chave <= no_destino}\n",
        "\n",
        "          # Imprima o novo dicionário\n",
        "          print(new_G)\n",
        "\n",
        "          return\n",
        "\n",
        "        for vizinho in range(len(grafo[no_atual])):\n",
        "          custo_aresta = grafo[no_atual][vizinho]\n",
        "\n",
        "          # Verifica se há uma aresta válida (custo maior que 0)\n",
        "          if custo_aresta > 0:\n",
        "              # Calcula o novo custo G(n) do vizinho\n",
        "              novo_custo = G[no_atual] + custo_aresta\n",
        "\n",
        "              # Verifica se o novo custo é menor do que o custo atual do vizinho\n",
        "              if novo_custo < G[vizinho]:\n",
        "                  # Atualiza o custo G(n) do vizinho\n",
        "                  G[vizinho] = novo_custo\n",
        "\n",
        "                  # Adiciona o vizinho à fila de prioridade\n",
        "                  adicionar_no_fila_prioridade(vizinho)\n",
        "\n",
        "\n",
        "    print(\"Caminho não encontrado\")\n",
        "\n",
        "# Exemplo de uso\n",
        "\n"
      ],
      "metadata": {
        "id": "tWvkJ0ZAQzeJ"
      },
      "execution_count": null,
      "outputs": []
    },
    {
      "cell_type": "code",
      "source": [
        "grafo = [\n",
        "    [0, 5, 3, 10],\n",
        "    [5, 0, 1, 2],\n",
        "    [3, 1, 0, 0],\n",
        "    [10, 2, 0, 0]\n",
        "]\n",
        "no_inicial = 0\n",
        "no_destino = 3\n",
        "ucs(grafo, no_inicial, no_destino)"
      ],
      "metadata": {
        "colab": {
          "base_uri": "https://localhost:8080/"
        },
        "id": "JagYUmFV26Ox",
        "outputId": "74f25ad8-1fbf-4d0c-8c2c-6ae1a1518098"
      },
      "execution_count": null,
      "outputs": [
        {
          "output_type": "stream",
          "name": "stdout",
          "text": [
            "{0: 0, 1: 4, 2: 3, 3: 6}\n"
          ]
        }
      ]
    }
  ]
}
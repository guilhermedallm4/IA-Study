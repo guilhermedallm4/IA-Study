{
  "nbformat": 4,
  "nbformat_minor": 0,
  "metadata": {
    "colab": {
      "provenance": [],
      "collapsed_sections": [
        "XD8sME96uDPU",
        "wzlW3b8HyaCC"
      ]
    },
    "kernelspec": {
      "name": "python3",
      "display_name": "Python 3"
    },
    "language_info": {
      "name": "python"
    }
  },
  "cells": [
    {
      "cell_type": "markdown",
      "source": [
        "#Search Algorithm"
      ],
      "metadata": {
        "id": "SAnonPplgjCQ"
      }
    },
    {
      "cell_type": "markdown",
      "source": [
        "##Tree"
      ],
      "metadata": {
        "id": "dLJPyUxq8NBg"
      }
    },
    {
      "cell_type": "markdown",
      "source": [
        "###Construção da Árvore"
      ],
      "metadata": {
        "id": "iZQRqzrYew72"
      }
    },
    {
      "cell_type": "code",
      "source": [
        "class Nodo():\n",
        "    def __init__(self, value=None, leftNodo=None, rightNodo=None):\n",
        "        self.value = value\n",
        "        self.leftNodo = leftNodo\n",
        "        self.rightNodo = rightNodo\n",
        "\n",
        "class Tree():\n",
        "    def __init__(self, nodo=None):\n",
        "        self.tree = nodo"
      ],
      "metadata": {
        "id": "Xhrk1-b_GAt4"
      },
      "execution_count": 1,
      "outputs": []
    },
    {
      "cell_type": "code",
      "source": [
        "def construct_tree(height, value=1):\n",
        "    if height == 0:\n",
        "        return None\n",
        "    else:\n",
        "        left_subtree = construct_tree(height - 1, value * 2)\n",
        "        right_subtree = construct_tree(height - 1, value * 2 + 1)\n",
        "        return Nodo(value, left_subtree, right_subtree)\n",
        "\n",
        "def print_tree(node, level=0):\n",
        "    if node is not None:\n",
        "        print_tree(node.rightNodo, level + 1)\n",
        "        print(\"   \" * level + str(node.value))\n",
        "        print_tree(node.leftNodo, level + 1)"
      ],
      "metadata": {
        "id": "UBv3A63nI5Rv"
      },
      "execution_count": 2,
      "outputs": []
    },
    {
      "cell_type": "code",
      "source": [
        "tree = Tree(construct_tree(5))\n",
        "print_tree(tree.tree)"
      ],
      "metadata": {
        "colab": {
          "base_uri": "https://localhost:8080/"
        },
        "id": "OlqvOk2SdwBs",
        "outputId": "bb17dfc2-f893-49e7-a297-c1b5a3fafa02"
      },
      "execution_count": 3,
      "outputs": [
        {
          "output_type": "stream",
          "name": "stdout",
          "text": [
            "            31\n",
            "         15\n",
            "            30\n",
            "      7\n",
            "            29\n",
            "         14\n",
            "            28\n",
            "   3\n",
            "            27\n",
            "         13\n",
            "            26\n",
            "      6\n",
            "            25\n",
            "         12\n",
            "            24\n",
            "1\n",
            "            23\n",
            "         11\n",
            "            22\n",
            "      5\n",
            "            21\n",
            "         10\n",
            "            20\n",
            "   2\n",
            "            19\n",
            "         9\n",
            "            18\n",
            "      4\n",
            "            17\n",
            "         8\n",
            "            16\n"
          ]
        }
      ]
    },
    {
      "cell_type": "markdown",
      "source": [
        "###Busca em Profundidade"
      ],
      "metadata": {
        "id": "ogz3pcgERiAV"
      }
    },
    {
      "cell_type": "code",
      "source": [
        "def search_tree(nodo=None, value=None, height=None, left=0, right=0):\n",
        "    if nodo is not None:\n",
        "      if value == nodo.value:\n",
        "          print(f'Encontrado o valor {value}\\nAltura: {height}')\n",
        "          if left == 1:\n",
        "            print(\"Nodo a esquerda\")\n",
        "          else:\n",
        "            print(\"Nodo a direita\")\n",
        "          return 0\n",
        "      else:\n",
        "        height += 1\n",
        "        search_tree(nodo.leftNodo, value, height, 1, 0)\n",
        "        search_tree(nodo.rightNodo, value, height, 0, 1)"
      ],
      "metadata": {
        "id": "jgtgoXuBRj0T"
      },
      "execution_count": 4,
      "outputs": []
    },
    {
      "cell_type": "code",
      "source": [
        "search_tree(nodo=tree.tree, value=31, height=1, left=0, right=0)"
      ],
      "metadata": {
        "colab": {
          "base_uri": "https://localhost:8080/"
        },
        "id": "S2N_3NlrOjvK",
        "outputId": "4389f471-1c08-48c9-ba3f-a8b0145ee84a"
      },
      "execution_count": 5,
      "outputs": [
        {
          "output_type": "stream",
          "name": "stdout",
          "text": [
            "Encontrado o valor 31\n",
            "Altura: 5\n",
            "Nodo a direita\n"
          ]
        }
      ]
    },
    {
      "cell_type": "markdown",
      "source": [
        "###Busca em Largura"
      ],
      "metadata": {
        "id": "CHpaOMGRdgWM"
      }
    },
    {
      "cell_type": "code",
      "source": [
        "def search_tree_bfs(nodo=None, value=None, height=0):\n",
        "    if nodo is not None:\n",
        "      listNodo = [(nodo, height)]\n",
        "      while listNodo:\n",
        "        nodoVerify, current_height = listNodo.pop(0)\n",
        "        if nodoVerify.value == value:\n",
        "          print(\"Valor encontrado\")\n",
        "          print(f'Encontrado o valor {nodoVerify.value}\\nAltura no qual foi encontrado o valor: {current_height}')\n",
        "          return None\n",
        "\n",
        "        if nodoVerify.leftNodo:\n",
        "          listNodo.append((nodoVerify.leftNodo, current_height + 1))\n",
        "        if nodoVerify.rightNodo:\n",
        "          listNodo.append((nodoVerify.rightNodo, current_height + 1))\n",
        "\n",
        "      print(\"Valor nao encontrado\")\n",
        "      print(f'Altura da árvore percorrida: {current_height}')\n",
        "      return None"
      ],
      "metadata": {
        "id": "A_y3XXESSCCI"
      },
      "execution_count": 6,
      "outputs": []
    },
    {
      "cell_type": "code",
      "source": [
        "search_tree_bfs(tree.tree, 5, 1)"
      ],
      "metadata": {
        "colab": {
          "base_uri": "https://localhost:8080/"
        },
        "id": "iNGFl5KSdRYe",
        "outputId": "614ee08b-c17a-4b2d-a75b-b9aac1deb4d7"
      },
      "execution_count": 7,
      "outputs": [
        {
          "output_type": "stream",
          "name": "stdout",
          "text": [
            "Valor encontrado\n",
            "Encontrado o valor 5\n",
            "Altura no qual foi encontrado o valor: 3\n"
          ]
        }
      ]
    },
    {
      "cell_type": "markdown",
      "source": [
        "###Busca Heuristica"
      ],
      "metadata": {
        "id": "7gL7DkNfMV2d"
      }
    },
    {
      "cell_type": "code",
      "source": [
        "def search_tree_greedy(nodo=None, value=None, height=0, maxValue = 0):\n",
        "        valueLeft = 0\n",
        "        valueRight = 0\n",
        "        if nodo.value == value:\n",
        "          print(\"Valor encontrado\")\n",
        "          print(f'Encontrado o valor {value}\\nAltura no qual foi encontrado o valor: {height}')\n",
        "          print(f'Valor mais alto encontrado durante o percurso: {maxValue}')\n",
        "          return None\n",
        "        if nodo.rightNodo:\n",
        "          valueLeft = abs(nodo.leftNodo.value - value) / max(abs(nodo.leftNodo.value), abs(value))\n",
        "        if nodo.leftNodo:\n",
        "          valueRight = abs(nodo.rightNodo.value - value) / max(abs(nodo.rightNodo.value), abs(value))\n",
        "\n",
        "\n",
        "        if valueRight > valueLeft and nodo.rightNodo:\n",
        "          if nodo.rightNodo.value > maxValue:\n",
        "            maxValue = nodo.rightNodo.value\n",
        "          search_tree_greedy(nodo.rightNodo, value, height + 1, maxValue)\n",
        "        elif valueRight < valueLeft and nodo.leftNodo:\n",
        "          if nodo.leftNodo.value > maxValue:\n",
        "            maxValue = nodo.leftNodo.value\n",
        "          search_tree_greedy(nodo.leftNodo, value, height + 1, maxValue)\n",
        "        else:\n",
        "          print(\"Valor nao encontrado\")\n",
        "          print(f'Altura da árvore percorrida: {height}')\n",
        "          print(f'Valor mais alto encontrado durante o percurso: {maxValue}')\n",
        "          return None"
      ],
      "metadata": {
        "id": "MPGKZczsMU5F"
      },
      "execution_count": 8,
      "outputs": []
    },
    {
      "cell_type": "code",
      "source": [
        "search_tree_greedy(tree.tree, 31, 1) #1, 3, 7, 15, 31"
      ],
      "metadata": {
        "colab": {
          "base_uri": "https://localhost:8080/"
        },
        "id": "yQFkMr1URIJ1",
        "outputId": "ba41c01e-24c9-4e99-bd84-e1fa97b2b163"
      },
      "execution_count": 9,
      "outputs": [
        {
          "output_type": "stream",
          "name": "stdout",
          "text": [
            "Valor nao encontrado\n",
            "Altura da árvore percorrida: 5\n",
            "Valor mais alto encontrado durante o percurso: 16\n"
          ]
        }
      ]
    },
    {
      "cell_type": "markdown",
      "source": [
        "##(Depth-First Search - DFS)"
      ],
      "metadata": {
        "id": "XD8sME96uDPU"
      }
    },
    {
      "cell_type": "markdown",
      "source": [
        "A busca em profundidade (Depth-First Search - DFS) é um algoritmo de busca usado em grafos e estruturas de dados em árvore. Ela começa na raiz (ou em um nó inicial arbitrário) e explora tão profundamente quanto possível ao longo de cada ramificação antes de fazer o backtracking (retornar) para explorar outras ramificações"
      ],
      "metadata": {
        "id": "rwbcdcz1yn2z"
      }
    },
    {
      "cell_type": "code",
      "execution_count": 10,
      "metadata": {
        "id": "JHSI4pvet7Zb"
      },
      "outputs": [],
      "source": [
        "vectorAdjacentes = []\n",
        "\n",
        "def dfs(grafo, no_atual, visitados, condicaoDeParada):\n",
        "  if no_atual not in visitados:\n",
        "    visitados.append(no_atual)\n",
        "    for i in grafo[no_atual]:\n",
        "      if i == condicaoDeParada:\n",
        "        vectorAdjacentes.append(no_atual)\n",
        "      dfs(grafo, i, visitados, condicaoDeParada)\n",
        "\n",
        "\n",
        "  print(visitados)\n",
        "\n"
      ]
    },
    {
      "cell_type": "code",
      "source": [
        "grafo = [ [1],           # Vizinhos do vértice 0.\n",
        "          [2, 3],        # Vizinhos do vértice 1.\n",
        "          [1, 4],        # Vizinhos do vértice 2.\n",
        "          [0, 2],        # Vizinhos do vértice 3.\n",
        "          [1]            # Vizinhos do vértice 4.\n",
        "        ]\n",
        "visitados = []\n",
        "no_atual = 0\n",
        "dfs(grafo, no_atual, visitados, 2)\n",
        "print(vectorAdjacentes)"
      ],
      "metadata": {
        "colab": {
          "base_uri": "https://localhost:8080/"
        },
        "id": "yxGGD-lRuFhj",
        "outputId": "17e91a2a-435d-45ab-b340-c79b8c0a2a7f"
      },
      "execution_count": 11,
      "outputs": [
        {
          "output_type": "stream",
          "name": "stdout",
          "text": [
            "[0, 1, 2]\n",
            "[0, 1, 2, 4]\n",
            "[0, 1, 2, 4]\n",
            "[0, 1, 2, 4]\n",
            "[0, 1, 2, 4, 3]\n",
            "[0, 1, 2, 4, 3]\n",
            "[0, 1, 2, 4, 3]\n",
            "[0, 1, 2, 4, 3]\n",
            "[0, 1, 2, 4, 3]\n",
            "[1, 3]\n"
          ]
        }
      ]
    },
    {
      "cell_type": "markdown",
      "source": [
        "##(Breadth-First Search - BFS)"
      ],
      "metadata": {
        "id": "wzlW3b8HyaCC"
      }
    },
    {
      "cell_type": "markdown",
      "source": [
        "A busca em largura (Breadth-First Search - BFS) é um algoritmo de busca utilizado em estruturas de dados em grafo e árvore. Diferentemente da busca em profundidade (DFS), que explora o máximo possível em profundidade antes de retroceder, a busca em largura explora todos os nós vizinhos de um nó antes de avançar para os vizinhos dos vizinhos. Isso significa que a BFS é usada para explorar todos os nós de um nível antes de passar para o próximo nível, o que a torna útil para encontrar o caminho mais curto entre dois nós em um grafo não ponderado."
      ],
      "metadata": {
        "id": "KDn6oXknyp28"
      }
    },
    {
      "cell_type": "code",
      "source": [
        "def bfs(grafo, no_inicio):\n",
        "  visitado = []\n",
        "  fila = []\n",
        "  fila.append(no_inicio)\n",
        "  visitado.append(no_inicio)\n",
        "\n",
        "  while len(fila) != 0:\n",
        "    no_inicio = fila.pop(0)\n",
        "    for vizinho in grafo[no_inicio]:\n",
        "      if vizinho not in visitado:\n",
        "        visitado.append(vizinho)\n",
        "        fila.append(vizinho)\n",
        "  print(fila)\n",
        "  print(visitado)"
      ],
      "metadata": {
        "id": "6kd5oMZnybhS"
      },
      "execution_count": 12,
      "outputs": []
    },
    {
      "cell_type": "code",
      "source": [
        "grafo = [ [1],           # Vizinhos do vértice 0.\n",
        "          [2, 3],        # Vizinhos do vértice 1.\n",
        "          [1, 4],        # Vizinhos do vértice 2.\n",
        "          [0, 2],        # Vizinhos do vértice 3.\n",
        "          [0]            # Vizinhos do vértice 4.\n",
        "        ]\n",
        "bfs(grafo, 4)"
      ],
      "metadata": {
        "colab": {
          "base_uri": "https://localhost:8080/"
        },
        "id": "L0NeV3CJzkAF",
        "outputId": "90d22b37-8e75-47ab-ab48-19c44adba1f2"
      },
      "execution_count": 13,
      "outputs": [
        {
          "output_type": "stream",
          "name": "stdout",
          "text": [
            "[]\n",
            "[4, 0, 1, 2, 3]\n"
          ]
        }
      ]
    },
    {
      "cell_type": "markdown",
      "source": [
        "##(Uniform-Cost Search - UCS)"
      ],
      "metadata": {
        "id": "5qNLMuqm1-ky"
      }
    },
    {
      "cell_type": "markdown",
      "source": [
        "O algoritmo de busca de custo uniforme (Uniform-Cost Search ou UCS) é um algoritmo de busca não informada que é usado para encontrar o caminho mais curto entre dois pontos em um grafo ponderado. O UCS é uma variação da busca em largura (BFS) e é especialmente útil quando todos os custos das arestas no grafo não são negativos. Ele garante encontrar o caminho mais curto, mesmo em grafos com custos diferentes nas arestas."
      ],
      "metadata": {
        "id": "o60P3uXr2EGZ"
      }
    },
    {
      "cell_type": "code",
      "source": [
        "G = {}\n",
        "prioridade = []\n",
        "\n",
        "def inicializar_G(grafo, no_inicial):\n",
        "    for no in range(len(grafo)):\n",
        "        if no == no_inicial:\n",
        "            G[no] = 0  # O nó inicial tem G(n) igual a 0\n",
        "        else:\n",
        "            G[no] = float('inf')  # Inicializa todos os outros nós com infinito\n",
        "\n",
        "# Procedimento para atualizar G(n) de um nó vizinho\n",
        "def atualizar_G(no_atual, no_vizinho, custo_aresta):\n",
        "    if G[no_atual] + custo_aresta < G[no_vizinho]:\n",
        "        G[no_vizinho] = G[no_atual] + custo_aresta\n",
        "\n",
        "def retirar_menor_custo():\n",
        "    prioridade.sort(key=lambda x: x[1]) # Ordena a fila pelo valor G(n)\n",
        "    no_atual, menor_custo = prioridade.pop(0)  # Retira o nó com menor custo\n",
        "    return no_atual\n",
        "\n",
        "def adicionar_no_fila_prioridade(no):\n",
        "    prioridade.append((no, G[no]))\n",
        "\n",
        "def ucs(grafo, no_inicial, no_destino):\n",
        "    inicializar_G(grafo, no_inicial)\n",
        "    adicionar_no_fila_prioridade(no_inicial)\n",
        "\n",
        "    while len(prioridade) != 0:\n",
        "        no_atual = retirar_menor_custo()\n",
        "\n",
        "        if no_atual == no_destino:\n",
        "          new_G = {chave: valor for chave, valor in G.items() if chave <= no_destino}\n",
        "\n",
        "          # Imprima o novo dicionário\n",
        "          print(new_G)\n",
        "\n",
        "          return\n",
        "\n",
        "        for vizinho in range(len(grafo[no_atual])):\n",
        "          custo_aresta = grafo[no_atual][vizinho]\n",
        "\n",
        "          # Verifica se há uma aresta válida (custo maior que 0)\n",
        "          if custo_aresta > 0:\n",
        "              # Calcula o novo custo G(n) do vizinho\n",
        "              novo_custo = G[no_atual] + custo_aresta\n",
        "\n",
        "              # Verifica se o novo custo é menor do que o custo atual do vizinho\n",
        "              if novo_custo < G[vizinho]:\n",
        "                  # Atualiza o custo G(n) do vizinho\n",
        "                  G[vizinho] = novo_custo\n",
        "\n",
        "                  # Adiciona o vizinho à fila de prioridade\n",
        "                  adicionar_no_fila_prioridade(vizinho)\n",
        "\n",
        "\n",
        "    print(\"Caminho não encontrado\")\n",
        "\n",
        "# Exemplo de uso\n",
        "\n"
      ],
      "metadata": {
        "id": "tWvkJ0ZAQzeJ"
      },
      "execution_count": 14,
      "outputs": []
    },
    {
      "cell_type": "code",
      "source": [
        "grafo = [\n",
        "    [0, 5, 3, 10],\n",
        "    [5, 0, 1, 2],\n",
        "    [3, 1, 0, 0],\n",
        "    [10, 2, 0, 0]\n",
        "]\n",
        "no_inicial = 0\n",
        "no_destino = 3\n",
        "ucs(grafo, no_inicial, no_destino)"
      ],
      "metadata": {
        "colab": {
          "base_uri": "https://localhost:8080/"
        },
        "id": "JagYUmFV26Ox",
        "outputId": "0ecfbb38-3e53-4376-d148-9d2011d35204"
      },
      "execution_count": 15,
      "outputs": [
        {
          "output_type": "stream",
          "name": "stdout",
          "text": [
            "{0: 0, 1: 4, 2: 3, 3: 6}\n"
          ]
        }
      ]
    },
    {
      "cell_type": "markdown",
      "source": [
        "##Graph"
      ],
      "metadata": {
        "id": "8hGV52Tq8RTk"
      }
    },
    {
      "cell_type": "markdown",
      "source": [
        "###Construção do Grafo"
      ],
      "metadata": {
        "id": "-8M17vnE8SVr"
      }
    },
    {
      "cell_type": "code",
      "source": [
        "import random"
      ],
      "metadata": {
        "id": "G_dm92Er9f01"
      },
      "execution_count": 16,
      "outputs": []
    },
    {
      "cell_type": "code",
      "source": [
        "class NodoGraph:\n",
        "    def __init__(self, number_nodo=None, value=None):\n",
        "        self.number_nodo = number_nodo\n",
        "        self.value = value\n",
        "        self.adjacency = []\n",
        "\n",
        "    def add_adjacency(self, other_nodo):\n",
        "        self.adjacency.append(other_nodo)\n"
      ],
      "metadata": {
        "id": "Y19fhvoW8U21"
      },
      "execution_count": 17,
      "outputs": []
    },
    {
      "cell_type": "code",
      "source": [
        "def build_graph(num_nodos, probabilidade_conexao):\n",
        "\n",
        "    nodos = [NodoGraph(number_nodo=i) for i in range(num_nodos)]\n",
        "    for nodo in nodos:\n",
        "      nodo.value = random.randint(1, 10)\n",
        "    for i in range(num_nodos):\n",
        "        for j in range(i+1, num_nodos):\n",
        "            if random.random() < probabilidade_conexao:\n",
        "                nodos[i].add_adjacency(nodos[j])\n",
        "                nodos[j].add_adjacency(nodos[i])\n",
        "\n",
        "    return nodos\n",
        "\n"
      ],
      "metadata": {
        "id": "Tg55zDAc9Kc9"
      },
      "execution_count": 18,
      "outputs": []
    },
    {
      "cell_type": "code",
      "source": [
        "\n",
        "\n",
        "# Exemplo de uso\n",
        "num_nodos = 5\n",
        "probabilidade_conexao = 0.6\n",
        "grafo = build_graph(num_nodos, probabilidade_conexao)\n",
        "\n",
        "# Exibir as adjacências para cada nodo\n",
        "for nodo in grafo:\n",
        "    print(f\"Nodo {nodo.number_nodo} é adjacente a:\")\n",
        "    print(f\"Valor {nodo.value}\")\n",
        "    print('Adjacente:' , end= \" \")\n",
        "    for adjacente in nodo.adjacency:\n",
        "        print(adjacente.number_nodo, end=\" \")\n",
        "    print()\n",
        "    print()\n"
      ],
      "metadata": {
        "colab": {
          "base_uri": "https://localhost:8080/"
        },
        "id": "Yc4LZkrE_oOk",
        "outputId": "e9e30320-e5c6-4ea4-96ce-c3ea9982e4dc"
      },
      "execution_count": 19,
      "outputs": [
        {
          "output_type": "stream",
          "name": "stdout",
          "text": [
            "Nodo 0 é adjacente a:\n",
            "Valor 10\n",
            "Adjacente: 3 4 \n",
            "\n",
            "Nodo 1 é adjacente a:\n",
            "Valor 3\n",
            "Adjacente: 4 \n",
            "\n",
            "Nodo 2 é adjacente a:\n",
            "Valor 2\n",
            "Adjacente: \n",
            "\n",
            "Nodo 3 é adjacente a:\n",
            "Valor 8\n",
            "Adjacente: 0 \n",
            "\n",
            "Nodo 4 é adjacente a:\n",
            "Valor 6\n",
            "Adjacente: 0 1 \n",
            "\n"
          ]
        }
      ]
    },
    {
      "cell_type": "markdown",
      "source": [
        "##Busca Gulosa"
      ],
      "metadata": {
        "id": "kvm7Vo8yOYrn"
      }
    },
    {
      "cell_type": "code",
      "source": [
        "class Cidade:\n",
        "  def __init__(self, nome, distanciaObjetivo):\n",
        "    self.nome = nome\n",
        "    self.visitado = False\n",
        "    self.distanciaObjetivo = distanciaObjetivo\n",
        "    self.adjacentes = []\n",
        "\n",
        "  def addCidadeAdjacente(self, cidade):\n",
        "      self.adjacentes.append(cidade)\n",
        "\n",
        "class Adjacente:\n",
        "  def __init__(self, cidade):\n",
        "    self.cidade = cidade\n",
        "\n",
        "class Mapa:\n",
        "  portoUniao = Cidade('Porto Uniao', 203)\n",
        "  pauloFrontin = Cidade('Paulo Frontin', 172)\n",
        "  canoinhas = Cidade('Canoinhas', 141)\n",
        "  irati = Cidade('Irati', 139)\n",
        "  palmeira = Cidade('Palmeira', 59)\n",
        "  campoLargo = Cidade('Campo Largo', 27)\n",
        "  curitiba = Cidade('Curitiba', 0)\n",
        "  balsaNova = Cidade('Balsa Nova', 41)\n",
        "  araucaria = Cidade('Araucaria', 23)\n",
        "  saoJose = Cidade('Sao Jose dos Pinhais', 13)\n",
        "  contenda = Cidade('Contenda', 39)\n",
        "  mafra = Cidade('Mafra', 94)\n",
        "  tijucas = Cidade('Tijucas do Sul', 56)\n",
        "  lapa = Cidade('Lapa', 74)\n",
        "  saoMateus = Cidade('Sao Mateus do Sul', 123)\n",
        "  tresBarras = Cidade('Tres Barras', 131)\n",
        "\n",
        "  portoUniao.addCidadeAdjacente(Adjacente(pauloFrontin))\n",
        "  portoUniao.addCidadeAdjacente(Adjacente(canoinhas))\n",
        "  portoUniao.addCidadeAdjacente(Adjacente(saoMateus))\n",
        "\n",
        "  pauloFrontin.addCidadeAdjacente(Adjacente(portoUniao))\n",
        "  pauloFrontin.addCidadeAdjacente(Adjacente(irati))\n",
        "\n",
        "  canoinhas.addCidadeAdjacente(Adjacente(portoUniao))\n",
        "  canoinhas.addCidadeAdjacente(Adjacente(tresBarras))\n",
        "  canoinhas.addCidadeAdjacente(Adjacente(mafra))\n",
        "\n",
        "  irati.addCidadeAdjacente(Adjacente(pauloFrontin))\n",
        "  irati.addCidadeAdjacente(Adjacente(saoMateus))\n",
        "  irati.addCidadeAdjacente(Adjacente(palmeira))\n",
        "\n",
        "  palmeira.addCidadeAdjacente(Adjacente(irati))\n",
        "  palmeira.addCidadeAdjacente(Adjacente(campoLargo))\n",
        "  palmeira.addCidadeAdjacente(Adjacente(saoMateus))\n",
        "\n",
        "  campoLargo.addCidadeAdjacente(Adjacente(palmeira))\n",
        "  campoLargo.addCidadeAdjacente(Adjacente(curitiba))\n",
        "  campoLargo.addCidadeAdjacente(Adjacente(balsaNova))\n",
        "\n",
        "  curitiba.addCidadeAdjacente(Adjacente(campoLargo))\n",
        "  curitiba.addCidadeAdjacente(Adjacente(balsaNova))\n",
        "  curitiba.addCidadeAdjacente(Adjacente(araucaria))\n",
        "  curitiba.addCidadeAdjacente(Adjacente(saoJose))\n",
        "\n",
        "  balsaNova.addCidadeAdjacente(Adjacente(campoLargo))\n",
        "  balsaNova.addCidadeAdjacente(Adjacente(curitiba))\n",
        "  balsaNova.addCidadeAdjacente(Adjacente(contenda))\n",
        "\n",
        "  araucaria.addCidadeAdjacente(Adjacente(curitiba))\n",
        "  araucaria.addCidadeAdjacente(Adjacente(contenda))\n",
        "\n",
        "  saoJose.addCidadeAdjacente(Adjacente(curitiba))\n",
        "  saoJose.addCidadeAdjacente(Adjacente(tijucas))\n",
        "\n",
        "  contenda.addCidadeAdjacente(Adjacente(araucaria))\n",
        "  contenda.addCidadeAdjacente(Adjacente(balsaNova))\n",
        "  contenda.addCidadeAdjacente(Adjacente(lapa))\n",
        "\n",
        "  mafra.addCidadeAdjacente(Adjacente(tijucas))\n",
        "  mafra.addCidadeAdjacente(Adjacente(canoinhas))\n",
        "  mafra.addCidadeAdjacente(Adjacente(lapa))\n",
        "\n",
        "  tijucas.addCidadeAdjacente(Adjacente(mafra))\n",
        "  tijucas.addCidadeAdjacente(Adjacente(saoJose))\n",
        "\n",
        "  lapa.addCidadeAdjacente(Adjacente(contenda))\n",
        "  lapa.addCidadeAdjacente(Adjacente(saoMateus))\n",
        "  lapa.addCidadeAdjacente(Adjacente(mafra))\n",
        "\n",
        "  saoMateus.addCidadeAdjacente(Adjacente(tresBarras))\n",
        "  saoMateus.addCidadeAdjacente(Adjacente(portoUniao))\n",
        "  saoMateus.addCidadeAdjacente(Adjacente(lapa))\n",
        "  saoMateus.addCidadeAdjacente(Adjacente(irati))\n",
        "  saoMateus.addCidadeAdjacente(Adjacente(palmeira))\n",
        "\n",
        "  tresBarras.addCidadeAdjacente(Adjacente(canoinhas))\n",
        "  tresBarras.addCidadeAdjacente(Adjacente(saoMateus))\n",
        "\n",
        "\n",
        "class VetorOrdenado:\n",
        "    def __init__(self, tamanho):\n",
        "        self.numeroElementos = 0\n",
        "        self.cidades = [None] * tamanho\n",
        "\n",
        "    def inserir(self, cidade):\n",
        "        if self.numeroElementos == 0:\n",
        "            self.cidades[0] = cidade\n",
        "            self.numeroElementos = 1\n",
        "            return\n",
        "\n",
        "        posicao = 0\n",
        "        i = 0\n",
        "\n",
        "        while i < self.numeroElementos:\n",
        "            if cidade.distanciaObjetivo > self.cidades[posicao].distanciaObjetivo:\n",
        "                posicao += 1\n",
        "            i += 1\n",
        "\n",
        "        for k in range(self.numeroElementos, posicao, -1):\n",
        "            self.cidades[k] = self.cidades[k - 1]\n",
        "\n",
        "        self.cidades[posicao] = cidade\n",
        "        self.numeroElementos += 1\n",
        "\n",
        "    def getPrimeiro(self):\n",
        "        return self.cidades[0]\n",
        "\n",
        "    def getCidade(self, index):\n",
        "        return self.cidades[index]\n",
        "\n",
        "    def mostrar(self):\n",
        "        for i in range(0, self.numeroElementos):\n",
        "            print('{} - {}'.format(self.cidades[i].nome, self.cidades[i].distanciaObjetivo))\n"
      ],
      "metadata": {
        "id": "WyC3dFlNOkv-"
      },
      "execution_count": 20,
      "outputs": []
    },
    {
      "cell_type": "code",
      "source": [
        "class Gulosa:\n",
        "\n",
        "    def __init__(self, objetivo):\n",
        "        self.objetivo = objetivo\n",
        "        self.achou = False\n",
        "        self.custo = 0\n",
        "\n",
        "    def buscar(self, atual):\n",
        "        print('\\nAtual: {}'.format(atual.nome))\n",
        "\n",
        "        self.custo += atual.distanciaObjetivo\n",
        "        atual.visitado = True\n",
        "\n",
        "        if atual == self.objetivo:\n",
        "            self.achou = True\n",
        "            print('\\nCusto Total: {}'.format(self.custo))\n",
        "        else:\n",
        "            self.fronteira = VetorOrdenado(len(atual.adjacentes))\n",
        "\n",
        "            for a in atual.adjacentes:\n",
        "                if a.cidade.visitado is False:\n",
        "                    a.cidade.visitado = True\n",
        "                    self.fronteira.inserir(a.cidade)\n",
        "\n",
        "            self.fronteira.mostrar()\n",
        "\n",
        "            if self.fronteira.getPrimeiro() is not None:\n",
        "                Gulosa.buscar(self, self.fronteira.getPrimeiro())\n"
      ],
      "metadata": {
        "id": "FxeGxLV_Ok3i"
      },
      "execution_count": 21,
      "outputs": []
    },
    {
      "cell_type": "code",
      "source": [
        "mapa = Mapa()"
      ],
      "metadata": {
        "id": "_h0O7la8PreM"
      },
      "execution_count": 22,
      "outputs": []
    },
    {
      "cell_type": "code",
      "source": [
        "gulosa = Gulosa(mapa.curitiba)"
      ],
      "metadata": {
        "id": "v7vMvU40Ok9d"
      },
      "execution_count": 23,
      "outputs": []
    },
    {
      "cell_type": "code",
      "source": [
        "gulosa.buscar(mapa.portoUniao)"
      ],
      "metadata": {
        "colab": {
          "base_uri": "https://localhost:8080/"
        },
        "id": "e3rVvceJPV00",
        "outputId": "2683c320-1767-416d-cb91-1b03a58f809b"
      },
      "execution_count": 24,
      "outputs": [
        {
          "output_type": "stream",
          "name": "stdout",
          "text": [
            "\n",
            "Atual: Porto Uniao\n",
            "Sao Mateus do Sul - 123\n",
            "Canoinhas - 141\n",
            "Paulo Frontin - 172\n",
            "\n",
            "Atual: Sao Mateus do Sul\n",
            "Palmeira - 59\n",
            "Lapa - 74\n",
            "Tres Barras - 131\n",
            "Irati - 139\n",
            "\n",
            "Atual: Palmeira\n",
            "Campo Largo - 27\n",
            "\n",
            "Atual: Campo Largo\n",
            "Curitiba - 0\n",
            "Balsa Nova - 41\n",
            "\n",
            "Atual: Curitiba\n",
            "\n",
            "Custo Total: 412\n"
          ]
        }
      ]
    },
    {
      "cell_type": "markdown",
      "source": [
        "##A*"
      ],
      "metadata": {
        "id": "tSljfzDJOar7"
      }
    },
    {
      "cell_type": "code",
      "source": [
        "class Cidade:\n",
        "  def __init__(self, nome, distanciaObjetivo):\n",
        "    self.nome = nome\n",
        "    self.visitado = False\n",
        "    self.distanciaObjetivo = distanciaObjetivo\n",
        "    self.adjacentes = []\n",
        "\n",
        "  def addCidadeAdjacente(self, cidade):\n",
        "      self.adjacentes.append(cidade)\n",
        "\n",
        "class Adjacente:\n",
        "  def __init__(self, cidade):\n",
        "    self.cidade = cidade\n",
        "\n",
        "class Mapa:\n",
        "  portoUniao = Cidade('Porto Uniao', 203)\n",
        "  pauloFrontin = Cidade('Paulo Frontin', 172)\n",
        "  canoinhas = Cidade('Canoinhas', 141)\n",
        "  irati = Cidade('Irati', 139)\n",
        "  palmeira = Cidade('Palmeira', 59)\n",
        "  campoLargo = Cidade('Campo Largo', 27)\n",
        "  curitiba = Cidade('Curitiba', 0)\n",
        "  balsaNova = Cidade('Balsa Nova', 41)\n",
        "  araucaria = Cidade('Araucaria', 23)\n",
        "  saoJose = Cidade('Sao Jose dos Pinhais', 13)\n",
        "  contenda = Cidade('Contenda', 39)\n",
        "  mafra = Cidade('Mafra', 94)\n",
        "  tijucas = Cidade('Tijucas do Sul', 56)\n",
        "  lapa = Cidade('Lapa', 74)\n",
        "  saoMateus = Cidade('Sao Mateus do Sul', 123)\n",
        "  tresBarras = Cidade('Tres Barras', 131)\n",
        "\n",
        "  portoUniao.addCidadeAdjacente(Adjacente(pauloFrontin))\n",
        "  portoUniao.addCidadeAdjacente(Adjacente(canoinhas))\n",
        "  portoUniao.addCidadeAdjacente(Adjacente(saoMateus))\n",
        "\n",
        "  pauloFrontin.addCidadeAdjacente(Adjacente(portoUniao))\n",
        "  pauloFrontin.addCidadeAdjacente(Adjacente(irati))\n",
        "\n",
        "  canoinhas.addCidadeAdjacente(Adjacente(portoUniao))\n",
        "  canoinhas.addCidadeAdjacente(Adjacente(tresBarras))\n",
        "  canoinhas.addCidadeAdjacente(Adjacente(mafra))\n",
        "\n",
        "  irati.addCidadeAdjacente(Adjacente(pauloFrontin))\n",
        "  irati.addCidadeAdjacente(Adjacente(saoMateus))\n",
        "  irati.addCidadeAdjacente(Adjacente(palmeira))\n",
        "\n",
        "  palmeira.addCidadeAdjacente(Adjacente(irati))\n",
        "  palmeira.addCidadeAdjacente(Adjacente(campoLargo))\n",
        "  palmeira.addCidadeAdjacente(Adjacente(saoMateus))\n",
        "\n",
        "  campoLargo.addCidadeAdjacente(Adjacente(palmeira))\n",
        "  campoLargo.addCidadeAdjacente(Adjacente(curitiba))\n",
        "  campoLargo.addCidadeAdjacente(Adjacente(balsaNova))\n",
        "\n",
        "  curitiba.addCidadeAdjacente(Adjacente(campoLargo))\n",
        "  curitiba.addCidadeAdjacente(Adjacente(balsaNova))\n",
        "  curitiba.addCidadeAdjacente(Adjacente(araucaria))\n",
        "  curitiba.addCidadeAdjacente(Adjacente(saoJose))\n",
        "\n",
        "  balsaNova.addCidadeAdjacente(Adjacente(campoLargo))\n",
        "  balsaNova.addCidadeAdjacente(Adjacente(curitiba))\n",
        "  balsaNova.addCidadeAdjacente(Adjacente(contenda))\n",
        "\n",
        "  araucaria.addCidadeAdjacente(Adjacente(curitiba))\n",
        "  araucaria.addCidadeAdjacente(Adjacente(contenda))\n",
        "\n",
        "  saoJose.addCidadeAdjacente(Adjacente(curitiba))\n",
        "  saoJose.addCidadeAdjacente(Adjacente(tijucas))\n",
        "\n",
        "  contenda.addCidadeAdjacente(Adjacente(araucaria))\n",
        "  contenda.addCidadeAdjacente(Adjacente(balsaNova))\n",
        "  contenda.addCidadeAdjacente(Adjacente(lapa))\n",
        "\n",
        "  mafra.addCidadeAdjacente(Adjacente(tijucas))\n",
        "  mafra.addCidadeAdjacente(Adjacente(canoinhas))\n",
        "  mafra.addCidadeAdjacente(Adjacente(lapa))\n",
        "\n",
        "  tijucas.addCidadeAdjacente(Adjacente(mafra))\n",
        "  tijucas.addCidadeAdjacente(Adjacente(saoJose))\n",
        "\n",
        "  lapa.addCidadeAdjacente(Adjacente(contenda))\n",
        "  lapa.addCidadeAdjacente(Adjacente(saoMateus))\n",
        "  lapa.addCidadeAdjacente(Adjacente(mafra))\n",
        "\n",
        "  saoMateus.addCidadeAdjacente(Adjacente(tresBarras))\n",
        "  saoMateus.addCidadeAdjacente(Adjacente(portoUniao))\n",
        "  saoMateus.addCidadeAdjacente(Adjacente(lapa))\n",
        "  saoMateus.addCidadeAdjacente(Adjacente(irati))\n",
        "  saoMateus.addCidadeAdjacente(Adjacente(palmeira))\n",
        "\n",
        "  tresBarras.addCidadeAdjacente(Adjacente(canoinhas))\n",
        "  tresBarras.addCidadeAdjacente(Adjacente(saoMateus))\n",
        "\n",
        "\n",
        "class VetorOrdenado:\n",
        "    def __init__(self, tamanho):\n",
        "        self.numeroElementos = 0\n",
        "        self.cidades = [None] * tamanho\n",
        "\n",
        "    def inserir(self, cidade):\n",
        "        if self.numeroElementos == 0:\n",
        "            self.cidades[0] = cidade\n",
        "            self.numeroElementos = 1\n",
        "            return\n",
        "\n",
        "        posicao = 0\n",
        "        i = 0\n",
        "\n",
        "        while i < self.numeroElementos:\n",
        "            if cidade.distanciaObjetivo > self.cidades[posicao].distanciaObjetivo:\n",
        "                posicao += 1\n",
        "            i += 1\n",
        "\n",
        "        for k in range(self.numeroElementos, posicao, -1):\n",
        "            self.cidades[k] = self.cidades[k - 1]\n",
        "\n",
        "        self.cidades[posicao] = cidade\n",
        "        self.numeroElementos += 1\n",
        "\n",
        "    def getPrimeiro(self):\n",
        "        return self.cidades[0]\n",
        "\n",
        "    def getCidade(self, index):\n",
        "        return self.cidades[index]\n",
        "\n",
        "    def mostrar(self):\n",
        "        for i in range(0, self.numeroElementos):\n",
        "            print('{} - {}'.format(self.cidades[i].nome, self.cidades[i].distanciaObjetivo))\n"
      ],
      "metadata": {
        "id": "PXjUjIyiPaFS"
      },
      "execution_count": 25,
      "outputs": []
    },
    {
      "cell_type": "code",
      "source": [
        "class aStar:\n",
        "\n",
        "    def __init__(self, objetivo):\n",
        "        self.objetivo = objetivo\n",
        "        self.achou = False\n",
        "        self.custo = 0\n",
        "\n",
        "    def buscar(self, atual):\n",
        "        print('\\nAtual: {}'.format(atual.nome))\n",
        "\n",
        "        self.custo += atual.distanciaObjetivo\n",
        "        atual.visitado = True\n",
        "\n",
        "        if atual == self.objetivo:\n",
        "            self.achou = True\n",
        "            print('\\nCusto Total: {}'.format(self.custo))\n",
        "        else:\n",
        "            self.fronteira = VetorOrdenado(len(atual.adjacentes))\n",
        "\n",
        "            for a in atual.adjacentes:\n",
        "                if a.cidade.visitado is False:\n",
        "                    a.cidade.visitado = True\n",
        "                    self.fronteira.inserir(a.cidade)\n",
        "\n",
        "            self.fronteira.mostrar()\n",
        "\n",
        "            index = None\n",
        "            aux_custo = self.custo\n",
        "            min_custo = 0\n",
        "            for i in range(0, self.fronteira.numeroElementos):\n",
        "\n",
        "                    aux_custo += self.fronteira.getCidade(i).distanciaObjetivo\n",
        "\n",
        "                    if i == 0:\n",
        "\n",
        "                      min_custo = aux_custo\n",
        "\n",
        "                      index = i\n",
        "\n",
        "                    else:\n",
        "                      if aux_custo < min_custo:\n",
        "\n",
        "                        min_custo = aux_custo\n",
        "\n",
        "                        index = i\n",
        "\n",
        "\n",
        "            if self.fronteira.getCidade(index) is not None:\n",
        "                cidade = self.fronteira.getCidade(index)\n",
        "                aStar.buscar(cidade)\n"
      ],
      "metadata": {
        "id": "ni7uZIzzPaow"
      },
      "execution_count": 26,
      "outputs": []
    },
    {
      "cell_type": "code",
      "source": [
        "mapa_astar = Mapa()"
      ],
      "metadata": {
        "id": "u4fkxMd8Plb1"
      },
      "execution_count": 27,
      "outputs": []
    },
    {
      "cell_type": "code",
      "source": [
        "aStar = aStar(mapa_astar.curitiba)"
      ],
      "metadata": {
        "id": "SWf8RnI_Pm9g"
      },
      "execution_count": 28,
      "outputs": []
    },
    {
      "cell_type": "code",
      "source": [
        "aStar.buscar(mapa_astar.portoUniao)"
      ],
      "metadata": {
        "colab": {
          "base_uri": "https://localhost:8080/"
        },
        "id": "ZuGpr9qFPo-w",
        "outputId": "aee752e0-dd35-4c22-ace6-2d6e69ce17cf"
      },
      "execution_count": 29,
      "outputs": [
        {
          "output_type": "stream",
          "name": "stdout",
          "text": [
            "\n",
            "Atual: Porto Uniao\n",
            "Sao Mateus do Sul - 123\n",
            "Canoinhas - 141\n",
            "Paulo Frontin - 172\n",
            "\n",
            "Atual: Sao Mateus do Sul\n",
            "Palmeira - 59\n",
            "Lapa - 74\n",
            "Tres Barras - 131\n",
            "Irati - 139\n",
            "\n",
            "Atual: Palmeira\n",
            "Campo Largo - 27\n",
            "\n",
            "Atual: Campo Largo\n",
            "Curitiba - 0\n",
            "Balsa Nova - 41\n",
            "\n",
            "Atual: Curitiba\n",
            "\n",
            "Custo Total: 412\n"
          ]
        }
      ]
    },
    {
      "cell_type": "markdown",
      "source": [
        "#Classificadores H2IA - UFPEL"
      ],
      "metadata": {
        "id": "VjgGst8bgue9"
      }
    },
    {
      "cell_type": "markdown",
      "source": [
        "##Precepton originating from the library\n"
      ],
      "metadata": {
        "id": "JRhmEAOLg2E_"
      }
    },
    {
      "cell_type": "code",
      "source": [
        "import matplotlib.pyplot as plt\n",
        "import numpy as np\n",
        "from sklearn.datasets import load_digits\n",
        "\n",
        "# Carregar a base de dados\n",
        "conjunto_de_dados = load_digits(n_class=10)\n",
        "\n",
        "nomes_rotulo = conjunto_de_dados['target_names']\n",
        "\n",
        "rotulos = conjunto_de_dados['target']\n",
        "\n",
        "nomes_feature = conjunto_de_dados['feature_names']\n",
        "\n",
        "features = conjunto_de_dados['data']\n"
      ],
      "metadata": {
        "id": "CcixdtXYhGVG"
      },
      "execution_count": 30,
      "outputs": []
    },
    {
      "cell_type": "markdown",
      "source": [
        "target_names:\n",
        "\n",
        "Significado: É um atributo que contém os nomes ou rótulos das classes ou categorias que o modelo está tentando prever. Em problemas de classificação, onde você tenta atribuir uma categoria a cada amostra de dados, target_names fornece os nomes ou rótulos correspondentes às classes.\n",
        "\n",
        "target:\n",
        "\n",
        "Significado: É um atributo que contém os rótulos reais ou verdadeiros associados às amostras de dados em um conjunto de dados supervisionado. Em um problema de classificação, target contém as classes reais que você deseja prever.\n",
        "\n",
        "data:\n",
        "\n",
        "Significado: É um atributo que contém os dados ou características das amostras do conjunto de dados. Cada linha em data corresponde a uma amostra e cada coluna a uma característica. É a partir dessas características que um modelo de aprendizado de máquina faz previsões.\n",
        "\n",
        "feature_names:\n",
        "\n",
        "Significado: É um atributo que contém os nomes ou rótulos das características ou atributos em data. Cada característica em data é rotulada com um nome em feature_names, o que facilita a interpretação dos dados."
      ],
      "metadata": {
        "id": "5Gez-sv_samy"
      }
    },
    {
      "cell_type": "code",
      "source": [
        "from sklearn.model_selection import train_test_split\n",
        "\n",
        "# Dividir o conjunto de dados\n",
        "treino, teste, rotulos_treino, rotulos_teste = train_test_split(features, rotulos, test_size=0.20)\n"
      ],
      "metadata": {
        "id": "TWgt86WSlUm5"
      },
      "execution_count": 31,
      "outputs": []
    },
    {
      "cell_type": "markdown",
      "source": [
        "from sklearn.model_selection import train_test_split: Esta linha importa a função train_test_split da biblioteca Scikit-Learn, que é usada para realizar a divisão dos dados.\n",
        "\n",
        "treino, teste, rotulos_treino, rotulos_teste = train_test_split(features, rotulos, test_size=0.20): Esta linha executa a divisão dos dados nos seguintes\n",
        "componentes:\n",
        "\n",
        "features: Representa os dados ou características que você deseja dividir em conjuntos de treinamento e teste.\n",
        "rotulos: Representa os rótulos (classes ou alvos) associados às amostras de dados.\n",
        "test_size=0.20: Define a proporção dos dados a serem alocados para o conjunto de teste. Neste caso, 20% dos dados serão usados como conjunto de teste, enquanto os 80% restantes serão usados como conjunto de treinamento.\n",
        "A função train_test_split retorna quatro conjuntos de dados:\n",
        "\n",
        "treino: Contém as amostras de treinamento (80% dos dados neste caso).\n",
        "teste: Contém as amostras de teste (20% dos dados neste caso).\n",
        "rotulos_treino: Contém os rótulos correspondentes às amostras de treinamento.\n",
        "rotulos_teste: Contém os rótulos correspondentes às amostras de teste.\n",
        "Essa divisão é comum em problemas de aprendizado de máquina supervisionado, onde o conjunto de treinamento é usado para treinar o modelo e o conjunto de teste é usado para avaliar o desempenho do modelo em dados não vistos durante o treinamento. O uso de conjuntos de treinamento e teste ajuda a verificar como o modelo generaliza para dados não vistos e a evitar o sobreajuste (overfitting)."
      ],
      "metadata": {
        "id": "DS3f_J5Dszrx"
      }
    },
    {
      "cell_type": "code",
      "source": [
        "from sklearn.linear_model import Perceptron\n",
        "\n",
        "# Inicializar nosso classificador\n",
        "p = Perceptron()\n",
        "\n",
        "\n",
        "# Treinar nosso classificador\n",
        "\n",
        "\n",
        "modelo = p.fit(treino, rotulos_treino)\n",
        "\n",
        "modelo.get_params()"
      ],
      "metadata": {
        "colab": {
          "base_uri": "https://localhost:8080/"
        },
        "id": "CzXdICzKmAz1",
        "outputId": "deeb9ce5-1a06-4d1c-f77f-52254d5901a4"
      },
      "execution_count": 32,
      "outputs": [
        {
          "output_type": "execute_result",
          "data": {
            "text/plain": [
              "{'alpha': 0.0001,\n",
              " 'class_weight': None,\n",
              " 'early_stopping': False,\n",
              " 'eta0': 1.0,\n",
              " 'fit_intercept': True,\n",
              " 'l1_ratio': 0.15,\n",
              " 'max_iter': 1000,\n",
              " 'n_iter_no_change': 5,\n",
              " 'n_jobs': None,\n",
              " 'penalty': None,\n",
              " 'random_state': 0,\n",
              " 'shuffle': True,\n",
              " 'tol': 0.001,\n",
              " 'validation_fraction': 0.1,\n",
              " 'verbose': 0,\n",
              " 'warm_start': False}"
            ]
          },
          "metadata": {},
          "execution_count": 32
        }
      ]
    },
    {
      "cell_type": "markdown",
      "source": [
        "alpha: É um hiperparâmetro que controla a força da regularização (penalização) aplicada ao modelo. Valores maiores de alpha aumentam a penalização.\n",
        "\n",
        "class_weight: Define o peso das classes no modelo. Quando definido como None, todas as classes têm o mesmo peso. Pode ser usado para tratar desequilíbrios de classe.\n",
        "\n",
        "early_stopping: Se definido como True, permite que o treinamento pare antecipadamente quando a métrica de validação não melhora. É comum em algoritmos iterativos para economizar tempo de treinamento.\n",
        "\n",
        "eta0: Taxa de aprendizado inicial para o SGD (gradiente descendente estocástico).\n",
        "\n",
        "fit_intercept: Indica se um termo de intercepção (bias) deve ser ajustado no modelo.\n",
        "\n",
        "l1_ratio: Parâmetro que controla a mistura de regularização L1 e L2. Um valor de 0 corresponde à regularização L2, um valor de 1 corresponde à regularização L1 e valores no meio representam uma combinação.\n",
        "\n",
        "max_iter: Número máximo de iterações ou épocas durante o treinamento.\n",
        "\n",
        "n_iter_no_change: Número de iterações sem melhoria na métrica de validação após o qual o treinamento é interrompido (quando early_stopping é definido como True).\n",
        "\n",
        "n_jobs: Número de trabalhadores (núcleos da CPU) a serem usados durante o treinamento. Quando definido como None, o número padrão de núcleos é usado.\n",
        "\n",
        "penalty: Tipo de penalização a ser aplicado ao modelo. Pode ser 'l1', 'l2' ou None.\n",
        "\n",
        "random_state: Semente para a geração de números aleatórios, o que torna os resultados reproduzíveis.\n",
        "\n",
        "shuffle: Se definido como True, os dados de treinamento são embaralhados aleatoriamente antes de cada iteração.\n",
        "\n",
        "tol: Tolerância para parar o treinamento quando a mudança nos parâmetros do modelo for menor que esse valor.\n",
        "\n",
        "validation_fraction: A fração dos dados de treinamento a serem usados como conjunto de validação quando early_stopping é definido como True.\n",
        "\n",
        "verbose: Controle do nível de informações de depuração durante o treinamento. Um valor maior indica mais informações verbais.\n",
        "\n",
        "warm_start: Se definido como True, o modelo é treinado com os pesos iniciais dos resultados anteriores.\n",
        "\n",
        "Esses parâmetros são usados para ajustar o comportamento do modelo durante o treinamento e podem afetar significativamente o desempenho e o comportamento do modelo. Os valores específicos fornecidos para esses parâmetros determinarão como o modelo é treinado e como ele se comporta durante o processo de ajuste. A seleção adequada de hiperparâmetros é uma parte importante do desenvolvimento de modelos de aprendizado de máquina."
      ],
      "metadata": {
        "id": "9j5YVqwboM22"
      }
    },
    {
      "cell_type": "code",
      "source": [
        "# Fazer previsões\n",
        "previsoes = modelo.predict(teste)\n",
        "print(previsoes)"
      ],
      "metadata": {
        "colab": {
          "base_uri": "https://localhost:8080/"
        },
        "id": "qNF8EFTbm8Sl",
        "outputId": "7f3f9279-c968-4eef-fce6-c2d02e929972"
      },
      "execution_count": 33,
      "outputs": [
        {
          "output_type": "stream",
          "name": "stdout",
          "text": [
            "[9 0 2 3 1 1 3 6 4 9 1 7 0 5 1 2 8 7 4 7 3 4 8 3 8 9 1 6 8 4 6 5 0 9 2 1 1\n",
            " 1 7 6 6 1 7 6 6 0 6 4 8 8 1 3 8 8 8 1 0 9 6 1 5 5 2 0 7 2 6 1 6 6 2 7 8 8\n",
            " 1 8 1 0 6 8 6 5 5 7 0 7 8 3 2 6 0 5 4 4 0 0 9 3 8 6 2 1 5 1 8 2 1 2 0 6 3\n",
            " 8 7 5 7 9 6 6 4 3 3 7 8 8 4 3 1 7 1 6 9 4 4 7 8 0 3 2 7 9 2 2 9 2 3 4 4 8\n",
            " 4 3 9 0 5 9 5 6 8 7 3 6 4 0 9 5 3 5 7 6 7 6 0 6 5 6 7 7 3 2 8 1 8 9 4 9 1\n",
            " 8 5 5 9 6 9 9 7 1 8 6 7 6 6 2 9 8 7 5 3 7 1 8 1 8 1 8 0 0 6 4 9 7 2 8 7 7\n",
            " 5 9 3 9 4 0 1 9 1 6 1 4 9 4 5 6 6 3 4 4 1 5 8 3 2 1 0 5 7 3 0 0 3 6 4 9 0\n",
            " 3 0 4 0 1 6 8 7 3 7 3 7 5 6 4 6 9 6 7 1 9 2 5 7 6 5 5 6 3 7 4 6 3 6 5 5 7\n",
            " 8 1 3 7 0 0 5 2 1 5 1 0 4 7 9 3 4 6 5 1 5 9 6 8 3 8 9 4 8 8 2 6 4 4 1 5 2\n",
            " 7 5 0 5 4 2 8 9 8 0 7 7 8 0 2 8 1 9 4 0 3 9 9 1 9 5 4]\n"
          ]
        }
      ]
    },
    {
      "cell_type": "markdown",
      "source": [
        "Geralmente, após treinar um modelo de aprendizado de máquina, é importante fazer previsões em dados de teste ou dados não vistos para avaliar o desempenho do modelo e verificar como ele generaliza para novos dados. As previsões podem ser usadas para várias tarefas, como classificação, regressão ou qualquer outra tarefa para a qual o modelo foi treinado."
      ],
      "metadata": {
        "id": "UH0ye0RooGkp"
      }
    },
    {
      "cell_type": "code",
      "source": [
        "from sklearn.model_selection import cross_val_score\n",
        "\n",
        "scores = cross_val_score(modelo, features, rotulos, cv=5, scoring='accuracy')\n",
        "scores"
      ],
      "metadata": {
        "colab": {
          "base_uri": "https://localhost:8080/"
        },
        "id": "wKlPoIzanZkv",
        "outputId": "c54492ee-ff41-49c3-865a-ccb062f7adc5"
      },
      "execution_count": 34,
      "outputs": [
        {
          "output_type": "execute_result",
          "data": {
            "text/plain": [
              "array([0.88055556, 0.83888889, 0.90807799, 0.94986072, 0.8718663 ])"
            ]
          },
          "metadata": {},
          "execution_count": 34
        }
      ]
    },
    {
      "cell_type": "markdown",
      "source": [
        "scores = cross_val_score(modelo, features, rotulos, cv=5, scoring='accuracy'): O código executa a validação cruzada usando os seguintes parâmetros:\n",
        "\n",
        "modelo: É o modelo de aprendizado de máquina que você deseja avaliar.\n",
        "features: São as características (dados) usadas para treinar e avaliar o modelo.\n",
        "rotulos: São os rótulos (classes) correspondentes às amostras.\n",
        "cv=5: Indica que a validação cruzada será realizada em 5 dobras (ou divisões). Isso significa que os dados serão divididos em 5 partes iguais e o modelo será treinado e testado 5 vezes, usando diferentes combinações de treinamento e teste.\n",
        "scoring='accuracy': Define a métrica de avaliação a ser usada, que é a acurácia neste caso. Isso significa que o desempenho do modelo será avaliado com base na proporção de previsões corretas.\n",
        "\n",
        "Ao imprimir a variável scores, você terá uma lista de pontuações de acurácia para cada dobra da validação cruzada. Isso permite avaliar o desempenho do modelo de forma mais abrangente, levando em consideração diferentes divisões dos dados. Geralmente, você pode calcular a média dessas pontuações para obter uma estimativa geral do desempenho do modelo."
      ],
      "metadata": {
        "id": "9_rXoOP-pALj"
      }
    },
    {
      "cell_type": "code",
      "source": [
        "from sklearn.metrics import accuracy_score\n",
        "\n",
        "# Avaliar o modelo\n",
        "print(accuracy_score(rotulos_teste, previsoes))"
      ],
      "metadata": {
        "colab": {
          "base_uri": "https://localhost:8080/"
        },
        "id": "DxZlanigngCH",
        "outputId": "28620a64-eb33-4821-866b-2b439ebd579d"
      },
      "execution_count": 35,
      "outputs": [
        {
          "output_type": "stream",
          "name": "stdout",
          "text": [
            "0.9472222222222222\n"
          ]
        }
      ]
    },
    {
      "cell_type": "markdown",
      "source": [
        "A função accuracy_score calcula a acurácia comparando as previsões com os rótulos verdadeiros e retorna um valor que representa a porcentagem de previsões corretas. Esse valor é impresso no console usando print, o que permite avaliar o desempenho do modelo em termos de acurácia. Quanto maior a acurácia, melhor o modelo está em fazer previsões corretas."
      ],
      "metadata": {
        "id": "ioRRipsCooEg"
      }
    }
  ]
}